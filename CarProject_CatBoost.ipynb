{
  "nbformat": 4,
  "nbformat_minor": 0,
  "metadata": {
    "colab": {
      "provenance": [],
      "gpuType": "T4"
    },
    "kernelspec": {
      "name": "python3",
      "display_name": "Python 3"
    },
    "language_info": {
      "name": "python"
    },
    "accelerator": "GPU"
  },
  "cells": [
    {
      "cell_type": "code",
      "source": [
        "!nvidia-smi"
      ],
      "metadata": {
        "colab": {
          "base_uri": "https://localhost:8080/"
        },
        "id": "d4o7NbwS3K4z",
        "outputId": "a1a67d07-c945-449b-a389-1d1f88776da0"
      },
      "execution_count": null,
      "outputs": [
        {
          "output_type": "stream",
          "name": "stdout",
          "text": [
            "Thu Aug 24 23:24:43 2023       \n",
            "+-----------------------------------------------------------------------------+\n",
            "| NVIDIA-SMI 525.105.17   Driver Version: 525.105.17   CUDA Version: 12.0     |\n",
            "|-------------------------------+----------------------+----------------------+\n",
            "| GPU  Name        Persistence-M| Bus-Id        Disp.A | Volatile Uncorr. ECC |\n",
            "| Fan  Temp  Perf  Pwr:Usage/Cap|         Memory-Usage | GPU-Util  Compute M. |\n",
            "|                               |                      |               MIG M. |\n",
            "|===============================+======================+======================|\n",
            "|   0  Tesla T4            Off  | 00000000:00:04.0 Off |                    0 |\n",
            "| N/A   36C    P8     9W /  70W |      0MiB / 15360MiB |      0%      Default |\n",
            "|                               |                      |                  N/A |\n",
            "+-------------------------------+----------------------+----------------------+\n",
            "                                                                               \n",
            "+-----------------------------------------------------------------------------+\n",
            "| Processes:                                                                  |\n",
            "|  GPU   GI   CI        PID   Type   Process name                  GPU Memory |\n",
            "|        ID   ID                                                   Usage      |\n",
            "|=============================================================================|\n",
            "|  No running processes found                                                 |\n",
            "+-----------------------------------------------------------------------------+\n"
          ]
        }
      ]
    },
    {
      "cell_type": "code",
      "execution_count": null,
      "metadata": {
        "id": "_PbhSCiI25pa"
      },
      "outputs": [],
      "source": [
        "import pandas as pd\n",
        "import numpy as np\n",
        "import seaborn as sns\n"
      ]
    },
    {
      "cell_type": "code",
      "source": [
        "df= pd.read_csv(\"car_acceptability.txt\", header=None)"
      ],
      "metadata": {
        "id": "JAx9Wn4O3Xv_"
      },
      "execution_count": null,
      "outputs": []
    },
    {
      "cell_type": "markdown",
      "source": [
        "Column isimlerini uygun bir şekilde değiştirdim"
      ],
      "metadata": {
        "id": "Ihx6RNfuSz67"
      }
    },
    {
      "cell_type": "code",
      "source": [
        "df.columns = [\"alis\", \"parca\", \"kapi\", \"kapasite\", \"bagaj\", \"guvenlik\", \"alinabilirlik\"]"
      ],
      "metadata": {
        "id": "BBxN-tSD3cmE"
      },
      "execution_count": null,
      "outputs": []
    },
    {
      "cell_type": "markdown",
      "source": [
        "Her kolonda hangi değerden kaçar tane olduğunu inceledim"
      ],
      "metadata": {
        "id": "RtoKpX9uS7up"
      }
    },
    {
      "cell_type": "code",
      "source": [
        "[df[col].value_counts() for col in df.columns]\n"
      ],
      "metadata": {
        "colab": {
          "base_uri": "https://localhost:8080/"
        },
        "id": "NSZ4hQs33dtt",
        "outputId": "694307b5-32c9-4e21-964c-342695ea50f4"
      },
      "execution_count": null,
      "outputs": [
        {
          "output_type": "execute_result",
          "data": {
            "text/plain": [
              "[high     432\n",
              " med      431\n",
              " vhigh    430\n",
              " low      430\n",
              " ?          3\n",
              " -          1\n",
              " düsük      1\n",
              " Name: alis, dtype: int64,\n",
              " high     432\n",
              " med      432\n",
              " low      432\n",
              " vhigh    429\n",
              " ?          4\n",
              " Name: parca, dtype: int64,\n",
              " 3        432\n",
              " 2        430\n",
              " 4        430\n",
              " 5more    430\n",
              " ?          3\n",
              " -          1\n",
              " 44         1\n",
              " iki        1\n",
              " 5+         1\n",
              " Name: kapi, dtype: int64,\n",
              " 4       576\n",
              " more    576\n",
              " 2       574\n",
              " ?         3\n",
              " Name: kapasite, dtype: int64,\n",
              " small    576\n",
              " big      576\n",
              " med      575\n",
              " ?          2\n",
              " Name: bagaj, dtype: int64,\n",
              " high    576\n",
              " med     574\n",
              " low     573\n",
              " ?         2\n",
              " -         2\n",
              " *         1\n",
              " Name: guvenlik, dtype: int64,\n",
              " unacc    1209\n",
              " acc       384\n",
              " good       69\n",
              " vgood      65\n",
              " ?           2\n",
              " Name: alinabilirlik, dtype: int64]"
            ]
          },
          "metadata": {},
          "execution_count": 5
        }
      ]
    },
    {
      "cell_type": "markdown",
      "source": [
        "Uygun olmayan değerleri tablodaki uygun olduğunu düşündüğüm değerlere dönüştürdüm"
      ],
      "metadata": {
        "id": "nXpljL77THJp"
      }
    },
    {
      "cell_type": "code",
      "source": [
        "df[\"kapi\"].replace(\"5+\", \"5more\", inplace=True)"
      ],
      "metadata": {
        "id": "5CO1Rr8l3qGd"
      },
      "execution_count": null,
      "outputs": []
    },
    {
      "cell_type": "code",
      "source": [
        "df[\"kapi\"].replace(\"44\", \"4\", inplace=True)"
      ],
      "metadata": {
        "id": "zvn8Ksgm3xOX"
      },
      "execution_count": null,
      "outputs": []
    },
    {
      "cell_type": "code",
      "source": [
        "df[\"kapi\"].replace(\"iki\", \"2\", inplace=True)"
      ],
      "metadata": {
        "id": "pmjvm_fq3ySo"
      },
      "execution_count": null,
      "outputs": []
    },
    {
      "cell_type": "code",
      "source": [
        "df[\"alis\"].replace(\"düsük\", \"low\", inplace=True)\n"
      ],
      "metadata": {
        "id": "T0CLxnCQ4Zfg"
      },
      "execution_count": null,
      "outputs": []
    },
    {
      "cell_type": "code",
      "source": [
        "df = df[~(df == \"-\").any(axis=1)]"
      ],
      "metadata": {
        "id": "8BLuQgUB4Car"
      },
      "execution_count": null,
      "outputs": []
    },
    {
      "cell_type": "code",
      "source": [
        "df = df[~(df == \"?\").any(axis=1)]\n",
        "df = df[~(df == \"*\").any(axis=1)]"
      ],
      "metadata": {
        "id": "bYKf7j3_4LPZ"
      },
      "execution_count": null,
      "outputs": []
    },
    {
      "cell_type": "code",
      "source": [
        "[df[col].value_counts() for col in df.columns]\n"
      ],
      "metadata": {
        "colab": {
          "base_uri": "https://localhost:8080/"
        },
        "id": "te0_DhUz33sD",
        "outputId": "6d78d9a4-a43c-4a6f-b4da-1becedea88fc"
      },
      "execution_count": null,
      "outputs": [
        {
          "output_type": "execute_result",
          "data": {
            "text/plain": [
              "[high     432\n",
              " med      428\n",
              " low      428\n",
              " vhigh    427\n",
              " Name: alis, dtype: int64,\n",
              " low      432\n",
              " high     430\n",
              " med      430\n",
              " vhigh    424\n",
              " Name: parca, dtype: int64,\n",
              " 3        432\n",
              " 4        429\n",
              " 5more    428\n",
              " 2        427\n",
              " Name: kapi, dtype: int64,\n",
              " 4       573\n",
              " more    573\n",
              " 2       570\n",
              " Name: kapasite, dtype: int64,\n",
              " small    573\n",
              " big      572\n",
              " med      571\n",
              " Name: bagaj, dtype: int64,\n",
              " high    573\n",
              " med     572\n",
              " low     570\n",
              " Name: guvenlik, dtype: int64,\n",
              " unacc    1201\n",
              " acc       381\n",
              " good       69\n",
              " vgood      65\n",
              " Name: alinabilirlik, dtype: int64]"
            ]
          },
          "metadata": {},
          "execution_count": 14
        }
      ]
    },
    {
      "cell_type": "markdown",
      "source": [
        "Dataframein bir kopyasını oluşturdum bir karışıklık olması durumunda dönüp bu kopyadan devam edebilmek için"
      ],
      "metadata": {
        "id": "BI4sbzcFTaXX"
      }
    },
    {
      "cell_type": "code",
      "source": [
        "dff = df.copy()"
      ],
      "metadata": {
        "id": "YMOyzxKn4efa"
      },
      "execution_count": null,
      "outputs": []
    },
    {
      "cell_type": "code",
      "source": [
        "dff.value_counts()"
      ],
      "metadata": {
        "colab": {
          "base_uri": "https://localhost:8080/"
        },
        "id": "fp5f3yBY4nwc",
        "outputId": "0064994e-07b9-4fe7-b73f-43109ef8bfd9"
      },
      "execution_count": null,
      "outputs": [
        {
          "output_type": "execute_result",
          "data": {
            "text/plain": [
              "alis   parca  kapi   kapasite  bagaj  guvenlik  alinabilirlik\n",
              "high   high   2      2         big    high      unacc            1\n",
              "med    med    4      more      small  high      acc              1\n",
              "                               med    low       unacc            1\n",
              "                                      high      vgood            1\n",
              "                               big    med       acc              1\n",
              "                                                                ..\n",
              "low    low    3      2         big    med       unacc            1\n",
              "                                      low       unacc            1\n",
              "                                      high      unacc            1\n",
              "              2      more      small  med       unacc            1\n",
              "vhigh  vhigh  5more  more      small  med       unacc            1\n",
              "Length: 1714, dtype: int64"
            ]
          },
          "metadata": {},
          "execution_count": 16
        }
      ]
    },
    {
      "cell_type": "code",
      "source": [
        "[dff[col].value_counts() for col in dff.columns]"
      ],
      "metadata": {
        "colab": {
          "base_uri": "https://localhost:8080/"
        },
        "id": "7gk5Sow546EG",
        "outputId": "26957736-aa08-4678-f351-fc1239fbf1d9"
      },
      "execution_count": null,
      "outputs": [
        {
          "output_type": "execute_result",
          "data": {
            "text/plain": [
              "[high     432\n",
              " med      428\n",
              " low      428\n",
              " vhigh    427\n",
              " Name: alis, dtype: int64,\n",
              " low      432\n",
              " high     430\n",
              " med      430\n",
              " vhigh    424\n",
              " Name: parca, dtype: int64,\n",
              " 3        432\n",
              " 4        429\n",
              " 5more    428\n",
              " 2        427\n",
              " Name: kapi, dtype: int64,\n",
              " 4       573\n",
              " more    573\n",
              " 2       570\n",
              " Name: kapasite, dtype: int64,\n",
              " small    573\n",
              " big      572\n",
              " med      571\n",
              " Name: bagaj, dtype: int64,\n",
              " high    573\n",
              " med     572\n",
              " low     570\n",
              " Name: guvenlik, dtype: int64,\n",
              " unacc    1201\n",
              " acc       381\n",
              " good       69\n",
              " vgood      65\n",
              " Name: alinabilirlik, dtype: int64]"
            ]
          },
          "metadata": {},
          "execution_count": 17
        }
      ]
    },
    {
      "cell_type": "code",
      "source": [
        "pip install catboost"
      ],
      "metadata": {
        "colab": {
          "base_uri": "https://localhost:8080/"
        },
        "id": "2TAasYkP4_ZR",
        "outputId": "c25edc54-7f3a-4cd1-feb9-14996bc0b756"
      },
      "execution_count": null,
      "outputs": [
        {
          "output_type": "stream",
          "name": "stdout",
          "text": [
            "Collecting catboost\n",
            "  Downloading catboost-1.2-cp310-cp310-manylinux2014_x86_64.whl (98.6 MB)\n",
            "\u001b[2K     \u001b[90m━━━━━━━━━━━━━━━━━━━━━━━━━━━━━━━━━━━━━━━━\u001b[0m \u001b[32m98.6/98.6 MB\u001b[0m \u001b[31m9.7 MB/s\u001b[0m eta \u001b[36m0:00:00\u001b[0m\n",
            "\u001b[?25hRequirement already satisfied: graphviz in /usr/local/lib/python3.10/dist-packages (from catboost) (0.20.1)\n",
            "Requirement already satisfied: matplotlib in /usr/local/lib/python3.10/dist-packages (from catboost) (3.7.1)\n",
            "Requirement already satisfied: numpy>=1.16.0 in /usr/local/lib/python3.10/dist-packages (from catboost) (1.23.5)\n",
            "Requirement already satisfied: pandas>=0.24 in /usr/local/lib/python3.10/dist-packages (from catboost) (1.5.3)\n",
            "Requirement already satisfied: scipy in /usr/local/lib/python3.10/dist-packages (from catboost) (1.10.1)\n",
            "Requirement already satisfied: plotly in /usr/local/lib/python3.10/dist-packages (from catboost) (5.15.0)\n",
            "Requirement already satisfied: six in /usr/local/lib/python3.10/dist-packages (from catboost) (1.16.0)\n",
            "Requirement already satisfied: python-dateutil>=2.8.1 in /usr/local/lib/python3.10/dist-packages (from pandas>=0.24->catboost) (2.8.2)\n",
            "Requirement already satisfied: pytz>=2020.1 in /usr/local/lib/python3.10/dist-packages (from pandas>=0.24->catboost) (2023.3)\n",
            "Requirement already satisfied: contourpy>=1.0.1 in /usr/local/lib/python3.10/dist-packages (from matplotlib->catboost) (1.1.0)\n",
            "Requirement already satisfied: cycler>=0.10 in /usr/local/lib/python3.10/dist-packages (from matplotlib->catboost) (0.11.0)\n",
            "Requirement already satisfied: fonttools>=4.22.0 in /usr/local/lib/python3.10/dist-packages (from matplotlib->catboost) (4.42.0)\n",
            "Requirement already satisfied: kiwisolver>=1.0.1 in /usr/local/lib/python3.10/dist-packages (from matplotlib->catboost) (1.4.4)\n",
            "Requirement already satisfied: packaging>=20.0 in /usr/local/lib/python3.10/dist-packages (from matplotlib->catboost) (23.1)\n",
            "Requirement already satisfied: pillow>=6.2.0 in /usr/local/lib/python3.10/dist-packages (from matplotlib->catboost) (9.4.0)\n",
            "Requirement already satisfied: pyparsing>=2.3.1 in /usr/local/lib/python3.10/dist-packages (from matplotlib->catboost) (3.1.1)\n",
            "Requirement already satisfied: tenacity>=6.2.0 in /usr/local/lib/python3.10/dist-packages (from plotly->catboost) (8.2.3)\n",
            "Installing collected packages: catboost\n",
            "Successfully installed catboost-1.2\n"
          ]
        }
      ]
    },
    {
      "cell_type": "markdown",
      "source": [
        "Gerekli import işlemlerini yaptım"
      ],
      "metadata": {
        "id": "_ovYMAlBTtjx"
      }
    },
    {
      "cell_type": "code",
      "source": [
        "from sklearn.model_selection import train_test_split\n",
        "from sklearn.metrics import classification_report\n",
        "from catboost import CatBoostClassifier, Pool"
      ],
      "metadata": {
        "id": "enmCLJoZ5Jsy"
      },
      "execution_count": null,
      "outputs": []
    },
    {
      "cell_type": "code",
      "source": [
        "X, y = dff.drop([\"alinabilirlik\"], axis=1), dff[\"alinabilirlik\"]"
      ],
      "metadata": {
        "id": "616HsVLy5OI9"
      },
      "execution_count": null,
      "outputs": []
    },
    {
      "cell_type": "markdown",
      "source": [
        "Modelimi kurmak için train ve test olarak datamı böldüm"
      ],
      "metadata": {
        "id": "3Goj-X2GTxg_"
      }
    },
    {
      "cell_type": "code",
      "source": [
        "X_train, X_test, y_train, y_test = train_test_split(\n",
        "    X, y, test_size = 0.2,\n",
        "    stratify=y\n",
        ")"
      ],
      "metadata": {
        "id": "WPxseWc25Vmh"
      },
      "execution_count": null,
      "outputs": []
    },
    {
      "cell_type": "markdown",
      "source": [
        "Daha önce farklı bir ortamda kurmuş olduğum modelle bulduğum en iyi değerleri veren parametrelerimi ekledim"
      ],
      "metadata": {
        "id": "N6JMBTcJUG9Q"
      }
    },
    {
      "cell_type": "code",
      "source": [
        "model_results = CatBoostClassifier(depth= 5, l2_leaf_reg= 1, learning_rate= 0.3)"
      ],
      "metadata": {
        "id": "j8rrZl1h5rfG"
      },
      "execution_count": null,
      "outputs": []
    },
    {
      "cell_type": "code",
      "source": [
        "categorical_features = list(X_train.select_dtypes(include = \"object\").columns)\n",
        "categorical_features"
      ],
      "metadata": {
        "colab": {
          "base_uri": "https://localhost:8080/"
        },
        "id": "M4BfxV0X9cQ-",
        "outputId": "0e090360-437d-4eed-c880-b2780dde41c2"
      },
      "execution_count": null,
      "outputs": [
        {
          "output_type": "execute_result",
          "data": {
            "text/plain": [
              "['alis', 'parca', 'kapi', 'kapasite', 'bagaj', 'guvenlik']"
            ]
          },
          "metadata": {},
          "execution_count": 37
        }
      ]
    },
    {
      "cell_type": "markdown",
      "source": [
        "Modelimi kurup çalıştırdıktan sonra nan değerlerin olduğu için modelim çalışmadı mevcut nan değerleri inceledim. Göz ardı edilebilecek sayıdaydı 1-2 gibi. Onları dönüp drop ettim"
      ],
      "metadata": {
        "id": "xRqyYFzNUrq9"
      }
    },
    {
      "cell_type": "code",
      "source": [
        "dff.dropna(inplace=True)"
      ],
      "metadata": {
        "id": "EenhM_Jz_JeJ"
      },
      "execution_count": null,
      "outputs": []
    },
    {
      "cell_type": "code",
      "source": [
        "dff.isnull().sum()"
      ],
      "metadata": {
        "colab": {
          "base_uri": "https://localhost:8080/"
        },
        "id": "620ksAOo_WLc",
        "outputId": "07dc2341-2ff4-4a48-b233-e8b0195d5fdd"
      },
      "execution_count": null,
      "outputs": [
        {
          "output_type": "execute_result",
          "data": {
            "text/plain": [
              "alis             0\n",
              "parca            0\n",
              "kapi             0\n",
              "kapasite         0\n",
              "bagaj            0\n",
              "guvenlik         0\n",
              "alinabilirlik    0\n",
              "dtype: int64"
            ]
          },
          "metadata": {},
          "execution_count": 38
        }
      ]
    },
    {
      "cell_type": "code",
      "source": [
        "model_results.fit(X_train,y_train, cat_features = categorical_features)"
      ],
      "metadata": {
        "colab": {
          "base_uri": "https://localhost:8080/"
        },
        "id": "m00DT3JZ5x8p",
        "outputId": "7187865f-557f-4be5-b21b-0b1bfb59af46"
      },
      "execution_count": null,
      "outputs": [
        {
          "output_type": "stream",
          "name": "stdout",
          "text": [
            "0:\tlearn: 1.0264066\ttotal: 50.7ms\tremaining: 50.7s\n",
            "1:\tlearn: 0.8182542\ttotal: 60.1ms\tremaining: 30s\n",
            "2:\tlearn: 0.7092862\ttotal: 67ms\tremaining: 22.3s\n",
            "3:\tlearn: 0.6443080\ttotal: 75.5ms\tremaining: 18.8s\n",
            "4:\tlearn: 0.5989683\ttotal: 86ms\tremaining: 17.1s\n",
            "5:\tlearn: 0.5244729\ttotal: 99.2ms\tremaining: 16.4s\n",
            "6:\tlearn: 0.4784327\ttotal: 110ms\tremaining: 15.7s\n",
            "7:\tlearn: 0.4422055\ttotal: 123ms\tremaining: 15.2s\n",
            "8:\tlearn: 0.4089736\ttotal: 135ms\tremaining: 14.8s\n",
            "9:\tlearn: 0.3389696\ttotal: 146ms\tremaining: 14.5s\n",
            "10:\tlearn: 0.3078009\ttotal: 158ms\tremaining: 14.2s\n",
            "11:\tlearn: 0.2826498\ttotal: 170ms\tremaining: 14s\n",
            "12:\tlearn: 0.2578201\ttotal: 181ms\tremaining: 13.7s\n",
            "13:\tlearn: 0.2457415\ttotal: 190ms\tremaining: 13.4s\n",
            "14:\tlearn: 0.2427851\ttotal: 201ms\tremaining: 13.2s\n",
            "15:\tlearn: 0.2271857\ttotal: 214ms\tremaining: 13.1s\n",
            "16:\tlearn: 0.2155954\ttotal: 225ms\tremaining: 13s\n",
            "17:\tlearn: 0.2030664\ttotal: 236ms\tremaining: 12.9s\n",
            "18:\tlearn: 0.2015016\ttotal: 246ms\tremaining: 12.7s\n",
            "19:\tlearn: 0.1997941\ttotal: 264ms\tremaining: 12.9s\n",
            "20:\tlearn: 0.1928292\ttotal: 280ms\tremaining: 13s\n",
            "21:\tlearn: 0.1830745\ttotal: 291ms\tremaining: 13s\n",
            "22:\tlearn: 0.1756655\ttotal: 302ms\tremaining: 12.8s\n",
            "23:\tlearn: 0.1745292\ttotal: 313ms\tremaining: 12.7s\n",
            "24:\tlearn: 0.1729167\ttotal: 322ms\tremaining: 12.6s\n",
            "25:\tlearn: 0.1688493\ttotal: 333ms\tremaining: 12.5s\n",
            "26:\tlearn: 0.1639055\ttotal: 344ms\tremaining: 12.4s\n",
            "27:\tlearn: 0.1599631\ttotal: 354ms\tremaining: 12.3s\n",
            "28:\tlearn: 0.1572630\ttotal: 370ms\tremaining: 12.4s\n",
            "29:\tlearn: 0.1555268\ttotal: 393ms\tremaining: 12.7s\n",
            "30:\tlearn: 0.1502393\ttotal: 408ms\tremaining: 12.7s\n",
            "31:\tlearn: 0.1444780\ttotal: 419ms\tremaining: 12.7s\n",
            "32:\tlearn: 0.1424591\ttotal: 430ms\tremaining: 12.6s\n",
            "33:\tlearn: 0.1393011\ttotal: 439ms\tremaining: 12.5s\n",
            "34:\tlearn: 0.1365450\ttotal: 450ms\tremaining: 12.4s\n",
            "35:\tlearn: 0.1331102\ttotal: 460ms\tremaining: 12.3s\n",
            "36:\tlearn: 0.1309893\ttotal: 473ms\tremaining: 12.3s\n",
            "37:\tlearn: 0.1269624\ttotal: 483ms\tremaining: 12.2s\n",
            "38:\tlearn: 0.1225541\ttotal: 494ms\tremaining: 12.2s\n",
            "39:\tlearn: 0.1200238\ttotal: 511ms\tremaining: 12.3s\n",
            "40:\tlearn: 0.1175124\ttotal: 524ms\tremaining: 12.3s\n",
            "41:\tlearn: 0.1167692\ttotal: 534ms\tremaining: 12.2s\n",
            "42:\tlearn: 0.1131970\ttotal: 543ms\tremaining: 12.1s\n",
            "43:\tlearn: 0.1105672\ttotal: 553ms\tremaining: 12s\n",
            "44:\tlearn: 0.1084963\ttotal: 564ms\tremaining: 12s\n",
            "45:\tlearn: 0.1072470\ttotal: 574ms\tremaining: 11.9s\n",
            "46:\tlearn: 0.1054082\ttotal: 585ms\tremaining: 11.9s\n",
            "47:\tlearn: 0.1024135\ttotal: 595ms\tremaining: 11.8s\n",
            "48:\tlearn: 0.0997742\ttotal: 606ms\tremaining: 11.8s\n",
            "49:\tlearn: 0.0962653\ttotal: 617ms\tremaining: 11.7s\n",
            "50:\tlearn: 0.0950681\ttotal: 628ms\tremaining: 11.7s\n",
            "51:\tlearn: 0.0941467\ttotal: 638ms\tremaining: 11.6s\n",
            "52:\tlearn: 0.0929947\ttotal: 649ms\tremaining: 11.6s\n",
            "53:\tlearn: 0.0912384\ttotal: 660ms\tremaining: 11.6s\n",
            "54:\tlearn: 0.0889637\ttotal: 671ms\tremaining: 11.5s\n",
            "55:\tlearn: 0.0882743\ttotal: 685ms\tremaining: 11.5s\n",
            "56:\tlearn: 0.0865021\ttotal: 697ms\tremaining: 11.5s\n",
            "57:\tlearn: 0.0846009\ttotal: 711ms\tremaining: 11.6s\n",
            "58:\tlearn: 0.0833843\ttotal: 721ms\tremaining: 11.5s\n",
            "59:\tlearn: 0.0814300\ttotal: 732ms\tremaining: 11.5s\n",
            "60:\tlearn: 0.0796650\ttotal: 743ms\tremaining: 11.4s\n",
            "61:\tlearn: 0.0779678\ttotal: 753ms\tremaining: 11.4s\n",
            "62:\tlearn: 0.0766795\ttotal: 765ms\tremaining: 11.4s\n",
            "63:\tlearn: 0.0759194\ttotal: 775ms\tremaining: 11.3s\n",
            "64:\tlearn: 0.0747171\ttotal: 785ms\tremaining: 11.3s\n",
            "65:\tlearn: 0.0740646\ttotal: 797ms\tremaining: 11.3s\n",
            "66:\tlearn: 0.0732126\ttotal: 806ms\tremaining: 11.2s\n",
            "67:\tlearn: 0.0728049\ttotal: 818ms\tremaining: 11.2s\n",
            "68:\tlearn: 0.0700895\ttotal: 830ms\tremaining: 11.2s\n",
            "69:\tlearn: 0.0689848\ttotal: 843ms\tremaining: 11.2s\n",
            "70:\tlearn: 0.0673364\ttotal: 854ms\tremaining: 11.2s\n",
            "71:\tlearn: 0.0652734\ttotal: 865ms\tremaining: 11.2s\n",
            "72:\tlearn: 0.0640920\ttotal: 877ms\tremaining: 11.1s\n",
            "73:\tlearn: 0.0633449\ttotal: 892ms\tremaining: 11.2s\n",
            "74:\tlearn: 0.0624414\ttotal: 903ms\tremaining: 11.1s\n",
            "75:\tlearn: 0.0613052\ttotal: 915ms\tremaining: 11.1s\n",
            "76:\tlearn: 0.0592462\ttotal: 926ms\tremaining: 11.1s\n",
            "77:\tlearn: 0.0587027\ttotal: 938ms\tremaining: 11.1s\n",
            "78:\tlearn: 0.0577482\ttotal: 951ms\tremaining: 11.1s\n",
            "79:\tlearn: 0.0563996\ttotal: 963ms\tremaining: 11.1s\n",
            "80:\tlearn: 0.0557301\ttotal: 973ms\tremaining: 11s\n",
            "81:\tlearn: 0.0545158\ttotal: 984ms\tremaining: 11s\n",
            "82:\tlearn: 0.0532145\ttotal: 995ms\tremaining: 11s\n",
            "83:\tlearn: 0.0521171\ttotal: 1.01s\tremaining: 11s\n",
            "84:\tlearn: 0.0518235\ttotal: 1.02s\tremaining: 11s\n",
            "85:\tlearn: 0.0510346\ttotal: 1.03s\tremaining: 10.9s\n",
            "86:\tlearn: 0.0502862\ttotal: 1.04s\tremaining: 10.9s\n",
            "87:\tlearn: 0.0499769\ttotal: 1.05s\tremaining: 10.9s\n",
            "88:\tlearn: 0.0488621\ttotal: 1.06s\tremaining: 10.8s\n",
            "89:\tlearn: 0.0485558\ttotal: 1.07s\tremaining: 10.8s\n",
            "90:\tlearn: 0.0477035\ttotal: 1.08s\tremaining: 10.8s\n",
            "91:\tlearn: 0.0468162\ttotal: 1.09s\tremaining: 10.8s\n",
            "92:\tlearn: 0.0466297\ttotal: 1.11s\tremaining: 10.8s\n",
            "93:\tlearn: 0.0446654\ttotal: 1.12s\tremaining: 10.8s\n",
            "94:\tlearn: 0.0442779\ttotal: 1.13s\tremaining: 10.8s\n",
            "95:\tlearn: 0.0437496\ttotal: 1.14s\tremaining: 10.8s\n",
            "96:\tlearn: 0.0431988\ttotal: 1.16s\tremaining: 10.8s\n",
            "97:\tlearn: 0.0418893\ttotal: 1.17s\tremaining: 10.7s\n",
            "98:\tlearn: 0.0408795\ttotal: 1.18s\tremaining: 10.7s\n",
            "99:\tlearn: 0.0406501\ttotal: 1.19s\tremaining: 10.7s\n",
            "100:\tlearn: 0.0399092\ttotal: 1.2s\tremaining: 10.7s\n",
            "101:\tlearn: 0.0390523\ttotal: 1.21s\tremaining: 10.7s\n",
            "102:\tlearn: 0.0375155\ttotal: 1.23s\tremaining: 10.7s\n",
            "103:\tlearn: 0.0370513\ttotal: 1.24s\tremaining: 10.6s\n",
            "104:\tlearn: 0.0365086\ttotal: 1.25s\tremaining: 10.7s\n",
            "105:\tlearn: 0.0361690\ttotal: 1.27s\tremaining: 10.7s\n",
            "106:\tlearn: 0.0359185\ttotal: 1.29s\tremaining: 10.8s\n",
            "107:\tlearn: 0.0356980\ttotal: 1.3s\tremaining: 10.8s\n",
            "108:\tlearn: 0.0352735\ttotal: 1.31s\tremaining: 10.7s\n",
            "109:\tlearn: 0.0350317\ttotal: 1.32s\tremaining: 10.7s\n",
            "110:\tlearn: 0.0349412\ttotal: 1.34s\tremaining: 10.7s\n",
            "111:\tlearn: 0.0343956\ttotal: 1.35s\tremaining: 10.7s\n",
            "112:\tlearn: 0.0342506\ttotal: 1.36s\tremaining: 10.6s\n",
            "113:\tlearn: 0.0336308\ttotal: 1.37s\tremaining: 10.6s\n",
            "114:\tlearn: 0.0328717\ttotal: 1.38s\tremaining: 10.6s\n",
            "115:\tlearn: 0.0322566\ttotal: 1.39s\tremaining: 10.6s\n",
            "116:\tlearn: 0.0318146\ttotal: 1.41s\tremaining: 10.6s\n",
            "117:\tlearn: 0.0310905\ttotal: 1.42s\tremaining: 10.6s\n",
            "118:\tlearn: 0.0305356\ttotal: 1.43s\tremaining: 10.6s\n",
            "119:\tlearn: 0.0301399\ttotal: 1.44s\tremaining: 10.6s\n",
            "120:\tlearn: 0.0296409\ttotal: 1.45s\tremaining: 10.5s\n",
            "121:\tlearn: 0.0292378\ttotal: 1.46s\tremaining: 10.5s\n",
            "122:\tlearn: 0.0289973\ttotal: 1.47s\tremaining: 10.5s\n",
            "123:\tlearn: 0.0288947\ttotal: 1.48s\tremaining: 10.5s\n",
            "124:\tlearn: 0.0286636\ttotal: 1.49s\tremaining: 10.5s\n",
            "125:\tlearn: 0.0284796\ttotal: 1.51s\tremaining: 10.5s\n",
            "126:\tlearn: 0.0281249\ttotal: 1.52s\tremaining: 10.4s\n",
            "127:\tlearn: 0.0276591\ttotal: 1.53s\tremaining: 10.4s\n",
            "128:\tlearn: 0.0276056\ttotal: 1.54s\tremaining: 10.4s\n",
            "129:\tlearn: 0.0272188\ttotal: 1.55s\tremaining: 10.4s\n",
            "130:\tlearn: 0.0267417\ttotal: 1.56s\tremaining: 10.4s\n",
            "131:\tlearn: 0.0264454\ttotal: 1.57s\tremaining: 10.3s\n",
            "132:\tlearn: 0.0261692\ttotal: 1.58s\tremaining: 10.3s\n",
            "133:\tlearn: 0.0256603\ttotal: 1.6s\tremaining: 10.3s\n",
            "134:\tlearn: 0.0255417\ttotal: 1.61s\tremaining: 10.3s\n",
            "135:\tlearn: 0.0249470\ttotal: 1.62s\tremaining: 10.3s\n",
            "136:\tlearn: 0.0247352\ttotal: 1.63s\tremaining: 10.3s\n",
            "137:\tlearn: 0.0240835\ttotal: 1.65s\tremaining: 10.3s\n",
            "138:\tlearn: 0.0239308\ttotal: 1.66s\tremaining: 10.3s\n",
            "139:\tlearn: 0.0238900\ttotal: 1.67s\tremaining: 10.2s\n",
            "140:\tlearn: 0.0237794\ttotal: 1.68s\tremaining: 10.2s\n",
            "141:\tlearn: 0.0235397\ttotal: 1.69s\tremaining: 10.2s\n",
            "142:\tlearn: 0.0234119\ttotal: 1.7s\tremaining: 10.2s\n",
            "143:\tlearn: 0.0230237\ttotal: 1.72s\tremaining: 10.2s\n",
            "144:\tlearn: 0.0219402\ttotal: 1.73s\tremaining: 10.2s\n",
            "145:\tlearn: 0.0218227\ttotal: 1.74s\tremaining: 10.2s\n",
            "146:\tlearn: 0.0214781\ttotal: 1.75s\tremaining: 10.2s\n",
            "147:\tlearn: 0.0214128\ttotal: 1.77s\tremaining: 10.2s\n",
            "148:\tlearn: 0.0212325\ttotal: 1.78s\tremaining: 10.2s\n",
            "149:\tlearn: 0.0210174\ttotal: 1.79s\tremaining: 10.1s\n",
            "150:\tlearn: 0.0208377\ttotal: 1.81s\tremaining: 10.2s\n",
            "151:\tlearn: 0.0203505\ttotal: 1.83s\tremaining: 10.2s\n",
            "152:\tlearn: 0.0201354\ttotal: 1.84s\tremaining: 10.2s\n",
            "153:\tlearn: 0.0199046\ttotal: 1.85s\tremaining: 10.2s\n",
            "154:\tlearn: 0.0198313\ttotal: 1.86s\tremaining: 10.1s\n",
            "155:\tlearn: 0.0197189\ttotal: 1.87s\tremaining: 10.1s\n",
            "156:\tlearn: 0.0193263\ttotal: 1.88s\tremaining: 10.1s\n",
            "157:\tlearn: 0.0190863\ttotal: 1.89s\tremaining: 10.1s\n",
            "158:\tlearn: 0.0187575\ttotal: 1.9s\tremaining: 10.1s\n",
            "159:\tlearn: 0.0187247\ttotal: 1.92s\tremaining: 10.1s\n",
            "160:\tlearn: 0.0187111\ttotal: 1.93s\tremaining: 10.1s\n",
            "161:\tlearn: 0.0186312\ttotal: 1.94s\tremaining: 10s\n",
            "162:\tlearn: 0.0183087\ttotal: 1.96s\tremaining: 10.1s\n",
            "163:\tlearn: 0.0180190\ttotal: 1.97s\tremaining: 10s\n",
            "164:\tlearn: 0.0178633\ttotal: 1.98s\tremaining: 10s\n",
            "165:\tlearn: 0.0177242\ttotal: 1.99s\tremaining: 10s\n",
            "166:\tlearn: 0.0176897\ttotal: 2s\tremaining: 9.99s\n",
            "167:\tlearn: 0.0176008\ttotal: 2.01s\tremaining: 9.97s\n",
            "168:\tlearn: 0.0174156\ttotal: 2.02s\tremaining: 9.96s\n",
            "169:\tlearn: 0.0172628\ttotal: 2.04s\tremaining: 9.94s\n",
            "170:\tlearn: 0.0171722\ttotal: 2.05s\tremaining: 9.93s\n",
            "171:\tlearn: 0.0169024\ttotal: 2.06s\tremaining: 9.92s\n",
            "172:\tlearn: 0.0168130\ttotal: 2.07s\tremaining: 9.9s\n",
            "173:\tlearn: 0.0163535\ttotal: 2.09s\tremaining: 9.93s\n",
            "174:\tlearn: 0.0161689\ttotal: 2.1s\tremaining: 9.91s\n",
            "175:\tlearn: 0.0161052\ttotal: 2.11s\tremaining: 9.89s\n",
            "176:\tlearn: 0.0159747\ttotal: 2.13s\tremaining: 9.89s\n",
            "177:\tlearn: 0.0154998\ttotal: 2.14s\tremaining: 9.87s\n",
            "178:\tlearn: 0.0153421\ttotal: 2.15s\tremaining: 9.86s\n",
            "179:\tlearn: 0.0151171\ttotal: 2.16s\tremaining: 9.84s\n",
            "180:\tlearn: 0.0149940\ttotal: 2.17s\tremaining: 9.82s\n",
            "181:\tlearn: 0.0147782\ttotal: 2.18s\tremaining: 9.8s\n",
            "182:\tlearn: 0.0146753\ttotal: 2.19s\tremaining: 9.8s\n",
            "183:\tlearn: 0.0145502\ttotal: 2.21s\tremaining: 9.78s\n",
            "184:\tlearn: 0.0144197\ttotal: 2.22s\tremaining: 9.76s\n",
            "185:\tlearn: 0.0142793\ttotal: 2.23s\tremaining: 9.74s\n",
            "186:\tlearn: 0.0139038\ttotal: 2.24s\tremaining: 9.73s\n",
            "187:\tlearn: 0.0137619\ttotal: 2.25s\tremaining: 9.71s\n",
            "188:\tlearn: 0.0136112\ttotal: 2.26s\tremaining: 9.69s\n",
            "189:\tlearn: 0.0135312\ttotal: 2.27s\tremaining: 9.69s\n",
            "190:\tlearn: 0.0134986\ttotal: 2.29s\tremaining: 9.69s\n",
            "191:\tlearn: 0.0133880\ttotal: 2.3s\tremaining: 9.68s\n",
            "192:\tlearn: 0.0132546\ttotal: 2.31s\tremaining: 9.66s\n",
            "193:\tlearn: 0.0132366\ttotal: 2.32s\tremaining: 9.64s\n",
            "194:\tlearn: 0.0131166\ttotal: 2.33s\tremaining: 9.64s\n",
            "195:\tlearn: 0.0130471\ttotal: 2.35s\tremaining: 9.65s\n",
            "196:\tlearn: 0.0129763\ttotal: 2.36s\tremaining: 9.63s\n",
            "197:\tlearn: 0.0127948\ttotal: 2.37s\tremaining: 9.61s\n",
            "198:\tlearn: 0.0126584\ttotal: 2.38s\tremaining: 9.6s\n",
            "199:\tlearn: 0.0126418\ttotal: 2.39s\tremaining: 9.58s\n",
            "200:\tlearn: 0.0126104\ttotal: 2.4s\tremaining: 9.56s\n",
            "201:\tlearn: 0.0125446\ttotal: 2.42s\tremaining: 9.54s\n",
            "202:\tlearn: 0.0124736\ttotal: 2.42s\tremaining: 9.52s\n",
            "203:\tlearn: 0.0123649\ttotal: 2.44s\tremaining: 9.5s\n",
            "204:\tlearn: 0.0122615\ttotal: 2.44s\tremaining: 9.48s\n",
            "205:\tlearn: 0.0121752\ttotal: 2.46s\tremaining: 9.46s\n",
            "206:\tlearn: 0.0120862\ttotal: 2.47s\tremaining: 9.45s\n",
            "207:\tlearn: 0.0118951\ttotal: 2.48s\tremaining: 9.43s\n",
            "208:\tlearn: 0.0118259\ttotal: 2.49s\tremaining: 9.41s\n",
            "209:\tlearn: 0.0117823\ttotal: 2.5s\tremaining: 9.4s\n",
            "210:\tlearn: 0.0116913\ttotal: 2.51s\tremaining: 9.38s\n",
            "211:\tlearn: 0.0116110\ttotal: 2.52s\tremaining: 9.36s\n",
            "212:\tlearn: 0.0115510\ttotal: 2.53s\tremaining: 9.34s\n",
            "213:\tlearn: 0.0114780\ttotal: 2.54s\tremaining: 9.34s\n",
            "214:\tlearn: 0.0113443\ttotal: 2.55s\tremaining: 9.32s\n",
            "215:\tlearn: 0.0113223\ttotal: 2.56s\tremaining: 9.3s\n",
            "216:\tlearn: 0.0112455\ttotal: 2.57s\tremaining: 9.29s\n",
            "217:\tlearn: 0.0112327\ttotal: 2.58s\tremaining: 9.27s\n",
            "218:\tlearn: 0.0111491\ttotal: 2.6s\tremaining: 9.26s\n",
            "219:\tlearn: 0.0110830\ttotal: 2.61s\tremaining: 9.26s\n",
            "220:\tlearn: 0.0110569\ttotal: 2.62s\tremaining: 9.24s\n",
            "221:\tlearn: 0.0109693\ttotal: 2.63s\tremaining: 9.23s\n",
            "222:\tlearn: 0.0108980\ttotal: 2.64s\tremaining: 9.21s\n",
            "223:\tlearn: 0.0108298\ttotal: 2.65s\tremaining: 9.2s\n",
            "224:\tlearn: 0.0108094\ttotal: 2.67s\tremaining: 9.18s\n",
            "225:\tlearn: 0.0107866\ttotal: 2.68s\tremaining: 9.16s\n",
            "226:\tlearn: 0.0106207\ttotal: 2.69s\tremaining: 9.15s\n",
            "227:\tlearn: 0.0106100\ttotal: 2.7s\tremaining: 9.13s\n",
            "228:\tlearn: 0.0105789\ttotal: 2.71s\tremaining: 9.11s\n",
            "229:\tlearn: 0.0105454\ttotal: 2.72s\tremaining: 9.1s\n",
            "230:\tlearn: 0.0104717\ttotal: 2.73s\tremaining: 9.08s\n",
            "231:\tlearn: 0.0103921\ttotal: 2.74s\tremaining: 9.06s\n",
            "232:\tlearn: 0.0103163\ttotal: 2.75s\tremaining: 9.06s\n",
            "233:\tlearn: 0.0102502\ttotal: 2.76s\tremaining: 9.05s\n",
            "234:\tlearn: 0.0102028\ttotal: 2.77s\tremaining: 9.03s\n",
            "235:\tlearn: 0.0101389\ttotal: 2.78s\tremaining: 9.01s\n",
            "236:\tlearn: 0.0100590\ttotal: 2.79s\tremaining: 9s\n",
            "237:\tlearn: 0.0100166\ttotal: 2.8s\tremaining: 8.98s\n",
            "238:\tlearn: 0.0099781\ttotal: 2.81s\tremaining: 8.96s\n",
            "239:\tlearn: 0.0099434\ttotal: 2.83s\tremaining: 8.95s\n",
            "240:\tlearn: 0.0098289\ttotal: 2.84s\tremaining: 8.93s\n",
            "241:\tlearn: 0.0097062\ttotal: 2.85s\tremaining: 8.92s\n",
            "242:\tlearn: 0.0096169\ttotal: 2.86s\tremaining: 8.91s\n",
            "243:\tlearn: 0.0095142\ttotal: 2.87s\tremaining: 8.91s\n",
            "244:\tlearn: 0.0094767\ttotal: 2.88s\tremaining: 8.89s\n",
            "245:\tlearn: 0.0094591\ttotal: 2.9s\tremaining: 8.88s\n",
            "246:\tlearn: 0.0094367\ttotal: 2.91s\tremaining: 8.86s\n",
            "247:\tlearn: 0.0093396\ttotal: 2.92s\tremaining: 8.85s\n",
            "248:\tlearn: 0.0093003\ttotal: 2.93s\tremaining: 8.83s\n",
            "249:\tlearn: 0.0092710\ttotal: 2.94s\tremaining: 8.82s\n",
            "250:\tlearn: 0.0091927\ttotal: 2.95s\tremaining: 8.82s\n",
            "251:\tlearn: 0.0091767\ttotal: 2.96s\tremaining: 8.8s\n",
            "252:\tlearn: 0.0090967\ttotal: 2.98s\tremaining: 8.79s\n",
            "253:\tlearn: 0.0090485\ttotal: 2.99s\tremaining: 8.78s\n",
            "254:\tlearn: 0.0089836\ttotal: 3s\tremaining: 8.77s\n",
            "255:\tlearn: 0.0089509\ttotal: 3.01s\tremaining: 8.75s\n",
            "256:\tlearn: 0.0088497\ttotal: 3.02s\tremaining: 8.74s\n",
            "257:\tlearn: 0.0088345\ttotal: 3.03s\tremaining: 8.72s\n",
            "258:\tlearn: 0.0087993\ttotal: 3.04s\tremaining: 8.71s\n",
            "259:\tlearn: 0.0087585\ttotal: 3.05s\tremaining: 8.69s\n",
            "260:\tlearn: 0.0086603\ttotal: 3.06s\tremaining: 8.68s\n",
            "261:\tlearn: 0.0086419\ttotal: 3.08s\tremaining: 8.66s\n",
            "262:\tlearn: 0.0086062\ttotal: 3.08s\tremaining: 8.65s\n",
            "263:\tlearn: 0.0085875\ttotal: 3.1s\tremaining: 8.63s\n",
            "264:\tlearn: 0.0085549\ttotal: 3.1s\tremaining: 8.61s\n",
            "265:\tlearn: 0.0084535\ttotal: 3.12s\tremaining: 8.6s\n",
            "266:\tlearn: 0.0084109\ttotal: 3.13s\tremaining: 8.61s\n",
            "267:\tlearn: 0.0083818\ttotal: 3.15s\tremaining: 8.59s\n",
            "268:\tlearn: 0.0083531\ttotal: 3.16s\tremaining: 8.59s\n",
            "269:\tlearn: 0.0081978\ttotal: 3.17s\tremaining: 8.58s\n",
            "270:\tlearn: 0.0081768\ttotal: 3.19s\tremaining: 8.57s\n",
            "271:\tlearn: 0.0081170\ttotal: 3.2s\tremaining: 8.55s\n",
            "272:\tlearn: 0.0080850\ttotal: 3.21s\tremaining: 8.54s\n",
            "273:\tlearn: 0.0080775\ttotal: 3.22s\tremaining: 8.53s\n",
            "274:\tlearn: 0.0080574\ttotal: 3.23s\tremaining: 8.51s\n",
            "275:\tlearn: 0.0080397\ttotal: 3.24s\tremaining: 8.5s\n",
            "276:\tlearn: 0.0079886\ttotal: 3.25s\tremaining: 8.48s\n",
            "277:\tlearn: 0.0079316\ttotal: 3.26s\tremaining: 8.47s\n",
            "278:\tlearn: 0.0078789\ttotal: 3.28s\tremaining: 8.47s\n",
            "279:\tlearn: 0.0078288\ttotal: 3.29s\tremaining: 8.47s\n",
            "280:\tlearn: 0.0078001\ttotal: 3.31s\tremaining: 8.46s\n",
            "281:\tlearn: 0.0077902\ttotal: 3.32s\tremaining: 8.44s\n",
            "282:\tlearn: 0.0077622\ttotal: 3.33s\tremaining: 8.43s\n",
            "283:\tlearn: 0.0076190\ttotal: 3.34s\tremaining: 8.41s\n",
            "284:\tlearn: 0.0075528\ttotal: 3.35s\tremaining: 8.4s\n",
            "285:\tlearn: 0.0074781\ttotal: 3.36s\tremaining: 8.38s\n",
            "286:\tlearn: 0.0073919\ttotal: 3.38s\tremaining: 8.4s\n",
            "287:\tlearn: 0.0073695\ttotal: 3.39s\tremaining: 8.38s\n",
            "288:\tlearn: 0.0073164\ttotal: 3.4s\tremaining: 8.37s\n",
            "289:\tlearn: 0.0072723\ttotal: 3.41s\tremaining: 8.35s\n",
            "290:\tlearn: 0.0072584\ttotal: 3.42s\tremaining: 8.34s\n",
            "291:\tlearn: 0.0072462\ttotal: 3.43s\tremaining: 8.32s\n",
            "292:\tlearn: 0.0072164\ttotal: 3.44s\tremaining: 8.3s\n",
            "293:\tlearn: 0.0071967\ttotal: 3.45s\tremaining: 8.29s\n",
            "294:\tlearn: 0.0071765\ttotal: 3.46s\tremaining: 8.28s\n",
            "295:\tlearn: 0.0071446\ttotal: 3.47s\tremaining: 8.26s\n",
            "296:\tlearn: 0.0071002\ttotal: 3.49s\tremaining: 8.25s\n",
            "297:\tlearn: 0.0070804\ttotal: 3.5s\tremaining: 8.24s\n",
            "298:\tlearn: 0.0069867\ttotal: 3.51s\tremaining: 8.23s\n",
            "299:\tlearn: 0.0069707\ttotal: 3.52s\tremaining: 8.21s\n",
            "300:\tlearn: 0.0069581\ttotal: 3.53s\tremaining: 8.2s\n",
            "301:\tlearn: 0.0069536\ttotal: 3.54s\tremaining: 8.19s\n",
            "302:\tlearn: 0.0069130\ttotal: 3.55s\tremaining: 8.18s\n",
            "303:\tlearn: 0.0068535\ttotal: 3.56s\tremaining: 8.16s\n",
            "304:\tlearn: 0.0068350\ttotal: 3.58s\tremaining: 8.15s\n",
            "305:\tlearn: 0.0067948\ttotal: 3.59s\tremaining: 8.15s\n",
            "306:\tlearn: 0.0067355\ttotal: 3.6s\tremaining: 8.14s\n",
            "307:\tlearn: 0.0066898\ttotal: 3.61s\tremaining: 8.12s\n",
            "308:\tlearn: 0.0066725\ttotal: 3.63s\tremaining: 8.11s\n",
            "309:\tlearn: 0.0066165\ttotal: 3.64s\tremaining: 8.1s\n",
            "310:\tlearn: 0.0066115\ttotal: 3.65s\tremaining: 8.09s\n",
            "311:\tlearn: 0.0065740\ttotal: 3.66s\tremaining: 8.08s\n",
            "312:\tlearn: 0.0065452\ttotal: 3.67s\tremaining: 8.07s\n",
            "313:\tlearn: 0.0065299\ttotal: 3.69s\tremaining: 8.05s\n",
            "314:\tlearn: 0.0065078\ttotal: 3.7s\tremaining: 8.04s\n",
            "315:\tlearn: 0.0064812\ttotal: 3.71s\tremaining: 8.03s\n",
            "316:\tlearn: 0.0064558\ttotal: 3.72s\tremaining: 8.01s\n",
            "317:\tlearn: 0.0064002\ttotal: 3.73s\tremaining: 8s\n",
            "318:\tlearn: 0.0063872\ttotal: 3.74s\tremaining: 7.98s\n",
            "319:\tlearn: 0.0063265\ttotal: 3.75s\tremaining: 7.97s\n",
            "320:\tlearn: 0.0062986\ttotal: 3.76s\tremaining: 7.95s\n",
            "321:\tlearn: 0.0062639\ttotal: 3.77s\tremaining: 7.94s\n",
            "322:\tlearn: 0.0061943\ttotal: 3.78s\tremaining: 7.92s\n",
            "323:\tlearn: 0.0061251\ttotal: 3.79s\tremaining: 7.92s\n",
            "324:\tlearn: 0.0061010\ttotal: 3.81s\tremaining: 7.9s\n",
            "325:\tlearn: 0.0060618\ttotal: 3.82s\tremaining: 7.89s\n",
            "326:\tlearn: 0.0060408\ttotal: 3.83s\tremaining: 7.88s\n",
            "327:\tlearn: 0.0059191\ttotal: 3.84s\tremaining: 7.86s\n",
            "328:\tlearn: 0.0058975\ttotal: 3.85s\tremaining: 7.85s\n",
            "329:\tlearn: 0.0058832\ttotal: 3.86s\tremaining: 7.83s\n",
            "330:\tlearn: 0.0058463\ttotal: 3.87s\tremaining: 7.82s\n",
            "331:\tlearn: 0.0057681\ttotal: 3.88s\tremaining: 7.8s\n",
            "332:\tlearn: 0.0057540\ttotal: 3.89s\tremaining: 7.79s\n",
            "333:\tlearn: 0.0057321\ttotal: 3.9s\tremaining: 7.78s\n",
            "334:\tlearn: 0.0056630\ttotal: 3.92s\tremaining: 7.78s\n",
            "335:\tlearn: 0.0056610\ttotal: 3.93s\tremaining: 7.76s\n",
            "336:\tlearn: 0.0056419\ttotal: 3.94s\tremaining: 7.75s\n",
            "337:\tlearn: 0.0056080\ttotal: 3.95s\tremaining: 7.74s\n",
            "338:\tlearn: 0.0055956\ttotal: 3.96s\tremaining: 7.73s\n",
            "339:\tlearn: 0.0055816\ttotal: 3.97s\tremaining: 7.71s\n",
            "340:\tlearn: 0.0055421\ttotal: 3.98s\tremaining: 7.7s\n",
            "341:\tlearn: 0.0055218\ttotal: 4s\tremaining: 7.7s\n",
            "342:\tlearn: 0.0054653\ttotal: 4.01s\tremaining: 7.68s\n",
            "343:\tlearn: 0.0054447\ttotal: 4.02s\tremaining: 7.67s\n",
            "344:\tlearn: 0.0053969\ttotal: 4.03s\tremaining: 7.65s\n",
            "345:\tlearn: 0.0053939\ttotal: 4.04s\tremaining: 7.64s\n",
            "346:\tlearn: 0.0053857\ttotal: 4.05s\tremaining: 7.63s\n",
            "347:\tlearn: 0.0053711\ttotal: 4.06s\tremaining: 7.61s\n",
            "348:\tlearn: 0.0053258\ttotal: 4.07s\tremaining: 7.59s\n",
            "349:\tlearn: 0.0053032\ttotal: 4.08s\tremaining: 7.58s\n",
            "350:\tlearn: 0.0052894\ttotal: 4.09s\tremaining: 7.57s\n",
            "351:\tlearn: 0.0052807\ttotal: 4.1s\tremaining: 7.56s\n",
            "352:\tlearn: 0.0052668\ttotal: 4.12s\tremaining: 7.54s\n",
            "353:\tlearn: 0.0052637\ttotal: 4.13s\tremaining: 7.53s\n",
            "354:\tlearn: 0.0052377\ttotal: 4.14s\tremaining: 7.52s\n",
            "355:\tlearn: 0.0052290\ttotal: 4.16s\tremaining: 7.52s\n",
            "356:\tlearn: 0.0052139\ttotal: 4.17s\tremaining: 7.51s\n",
            "357:\tlearn: 0.0051941\ttotal: 4.18s\tremaining: 7.5s\n",
            "358:\tlearn: 0.0051811\ttotal: 4.19s\tremaining: 7.48s\n",
            "359:\tlearn: 0.0051657\ttotal: 4.21s\tremaining: 7.48s\n",
            "360:\tlearn: 0.0051468\ttotal: 4.22s\tremaining: 7.46s\n",
            "361:\tlearn: 0.0051001\ttotal: 4.23s\tremaining: 7.45s\n",
            "362:\tlearn: 0.0050716\ttotal: 4.24s\tremaining: 7.44s\n",
            "363:\tlearn: 0.0050535\ttotal: 4.25s\tremaining: 7.42s\n",
            "364:\tlearn: 0.0050301\ttotal: 4.26s\tremaining: 7.41s\n",
            "365:\tlearn: 0.0050228\ttotal: 4.27s\tremaining: 7.4s\n",
            "366:\tlearn: 0.0049874\ttotal: 4.29s\tremaining: 7.4s\n",
            "367:\tlearn: 0.0049575\ttotal: 4.3s\tremaining: 7.39s\n",
            "368:\tlearn: 0.0049490\ttotal: 4.31s\tremaining: 7.38s\n",
            "369:\tlearn: 0.0049393\ttotal: 4.32s\tremaining: 7.36s\n",
            "370:\tlearn: 0.0049220\ttotal: 4.33s\tremaining: 7.35s\n",
            "371:\tlearn: 0.0048947\ttotal: 4.35s\tremaining: 7.34s\n",
            "372:\tlearn: 0.0048426\ttotal: 4.36s\tremaining: 7.32s\n",
            "373:\tlearn: 0.0048199\ttotal: 4.37s\tremaining: 7.31s\n",
            "374:\tlearn: 0.0048092\ttotal: 4.38s\tremaining: 7.29s\n",
            "375:\tlearn: 0.0048018\ttotal: 4.39s\tremaining: 7.28s\n",
            "376:\tlearn: 0.0047941\ttotal: 4.4s\tremaining: 7.27s\n",
            "377:\tlearn: 0.0047712\ttotal: 4.41s\tremaining: 7.26s\n",
            "378:\tlearn: 0.0047592\ttotal: 4.43s\tremaining: 7.26s\n",
            "379:\tlearn: 0.0047343\ttotal: 4.44s\tremaining: 7.25s\n",
            "380:\tlearn: 0.0047148\ttotal: 4.45s\tremaining: 7.23s\n",
            "381:\tlearn: 0.0046954\ttotal: 4.46s\tremaining: 7.22s\n",
            "382:\tlearn: 0.0046829\ttotal: 4.47s\tremaining: 7.21s\n",
            "383:\tlearn: 0.0046593\ttotal: 4.49s\tremaining: 7.2s\n",
            "384:\tlearn: 0.0046462\ttotal: 4.5s\tremaining: 7.18s\n",
            "385:\tlearn: 0.0046222\ttotal: 4.5s\tremaining: 7.17s\n",
            "386:\tlearn: 0.0045924\ttotal: 4.52s\tremaining: 7.15s\n",
            "387:\tlearn: 0.0045852\ttotal: 4.53s\tremaining: 7.14s\n",
            "388:\tlearn: 0.0045745\ttotal: 4.54s\tremaining: 7.13s\n",
            "389:\tlearn: 0.0045081\ttotal: 4.55s\tremaining: 7.11s\n",
            "390:\tlearn: 0.0045024\ttotal: 4.56s\tremaining: 7.1s\n",
            "391:\tlearn: 0.0044754\ttotal: 4.57s\tremaining: 7.08s\n",
            "392:\tlearn: 0.0044578\ttotal: 4.58s\tremaining: 7.07s\n",
            "393:\tlearn: 0.0044297\ttotal: 4.59s\tremaining: 7.06s\n",
            "394:\tlearn: 0.0044178\ttotal: 4.6s\tremaining: 7.05s\n",
            "395:\tlearn: 0.0044142\ttotal: 4.61s\tremaining: 7.03s\n",
            "396:\tlearn: 0.0043904\ttotal: 4.63s\tremaining: 7.03s\n",
            "397:\tlearn: 0.0043437\ttotal: 4.64s\tremaining: 7.01s\n",
            "398:\tlearn: 0.0043270\ttotal: 4.65s\tremaining: 7s\n",
            "399:\tlearn: 0.0042965\ttotal: 4.66s\tremaining: 6.99s\n",
            "400:\tlearn: 0.0042859\ttotal: 4.67s\tremaining: 6.98s\n",
            "401:\tlearn: 0.0042764\ttotal: 4.69s\tremaining: 6.97s\n",
            "402:\tlearn: 0.0042717\ttotal: 4.7s\tremaining: 6.96s\n",
            "403:\tlearn: 0.0042614\ttotal: 4.71s\tremaining: 6.94s\n",
            "404:\tlearn: 0.0042184\ttotal: 4.72s\tremaining: 6.93s\n",
            "405:\tlearn: 0.0042113\ttotal: 4.73s\tremaining: 6.92s\n",
            "406:\tlearn: 0.0041719\ttotal: 4.74s\tremaining: 6.91s\n",
            "407:\tlearn: 0.0041618\ttotal: 4.75s\tremaining: 6.89s\n",
            "408:\tlearn: 0.0041366\ttotal: 4.76s\tremaining: 6.88s\n",
            "409:\tlearn: 0.0041239\ttotal: 4.77s\tremaining: 6.87s\n",
            "410:\tlearn: 0.0041190\ttotal: 4.78s\tremaining: 6.85s\n",
            "411:\tlearn: 0.0041166\ttotal: 4.79s\tremaining: 6.84s\n",
            "412:\tlearn: 0.0041101\ttotal: 4.8s\tremaining: 6.83s\n",
            "413:\tlearn: 0.0040888\ttotal: 4.82s\tremaining: 6.82s\n",
            "414:\tlearn: 0.0040792\ttotal: 4.83s\tremaining: 6.8s\n",
            "415:\tlearn: 0.0040580\ttotal: 4.84s\tremaining: 6.79s\n",
            "416:\tlearn: 0.0040251\ttotal: 4.85s\tremaining: 6.78s\n",
            "417:\tlearn: 0.0040094\ttotal: 4.86s\tremaining: 6.76s\n",
            "418:\tlearn: 0.0039985\ttotal: 4.87s\tremaining: 6.75s\n",
            "419:\tlearn: 0.0039753\ttotal: 4.88s\tremaining: 6.74s\n",
            "420:\tlearn: 0.0039675\ttotal: 4.89s\tremaining: 6.73s\n",
            "421:\tlearn: 0.0039649\ttotal: 4.9s\tremaining: 6.71s\n",
            "422:\tlearn: 0.0039457\ttotal: 4.91s\tremaining: 6.7s\n",
            "423:\tlearn: 0.0039410\ttotal: 4.93s\tremaining: 6.7s\n",
            "424:\tlearn: 0.0039320\ttotal: 4.95s\tremaining: 6.69s\n",
            "425:\tlearn: 0.0039275\ttotal: 4.96s\tremaining: 6.68s\n",
            "426:\tlearn: 0.0039200\ttotal: 4.97s\tremaining: 6.67s\n",
            "427:\tlearn: 0.0038979\ttotal: 4.98s\tremaining: 6.66s\n",
            "428:\tlearn: 0.0038858\ttotal: 4.99s\tremaining: 6.64s\n",
            "429:\tlearn: 0.0038645\ttotal: 5s\tremaining: 6.63s\n",
            "430:\tlearn: 0.0038557\ttotal: 5.01s\tremaining: 6.62s\n",
            "431:\tlearn: 0.0038423\ttotal: 5.03s\tremaining: 6.61s\n",
            "432:\tlearn: 0.0038312\ttotal: 5.04s\tremaining: 6.6s\n",
            "433:\tlearn: 0.0038088\ttotal: 5.05s\tremaining: 6.59s\n",
            "434:\tlearn: 0.0038026\ttotal: 5.06s\tremaining: 6.57s\n",
            "435:\tlearn: 0.0037903\ttotal: 5.07s\tremaining: 6.56s\n",
            "436:\tlearn: 0.0037814\ttotal: 5.08s\tremaining: 6.55s\n",
            "437:\tlearn: 0.0037747\ttotal: 5.09s\tremaining: 6.54s\n",
            "438:\tlearn: 0.0037672\ttotal: 5.1s\tremaining: 6.52s\n",
            "439:\tlearn: 0.0037586\ttotal: 5.12s\tremaining: 6.51s\n",
            "440:\tlearn: 0.0037518\ttotal: 5.13s\tremaining: 6.5s\n",
            "441:\tlearn: 0.0037391\ttotal: 5.14s\tremaining: 6.49s\n",
            "442:\tlearn: 0.0037195\ttotal: 5.15s\tremaining: 6.48s\n",
            "443:\tlearn: 0.0037088\ttotal: 5.16s\tremaining: 6.46s\n",
            "444:\tlearn: 0.0036981\ttotal: 5.17s\tremaining: 6.45s\n",
            "445:\tlearn: 0.0036971\ttotal: 5.19s\tremaining: 6.45s\n",
            "446:\tlearn: 0.0036700\ttotal: 5.2s\tremaining: 6.44s\n",
            "447:\tlearn: 0.0036566\ttotal: 5.21s\tremaining: 6.42s\n",
            "448:\tlearn: 0.0036479\ttotal: 5.23s\tremaining: 6.41s\n",
            "449:\tlearn: 0.0036388\ttotal: 5.24s\tremaining: 6.4s\n",
            "450:\tlearn: 0.0036250\ttotal: 5.25s\tremaining: 6.39s\n",
            "451:\tlearn: 0.0036157\ttotal: 5.26s\tremaining: 6.38s\n",
            "452:\tlearn: 0.0036058\ttotal: 5.27s\tremaining: 6.37s\n",
            "453:\tlearn: 0.0035949\ttotal: 5.29s\tremaining: 6.36s\n",
            "454:\tlearn: 0.0035724\ttotal: 5.3s\tremaining: 6.35s\n",
            "455:\tlearn: 0.0035561\ttotal: 5.31s\tremaining: 6.34s\n",
            "456:\tlearn: 0.0035492\ttotal: 5.32s\tremaining: 6.32s\n",
            "457:\tlearn: 0.0035335\ttotal: 5.33s\tremaining: 6.31s\n",
            "458:\tlearn: 0.0035241\ttotal: 5.34s\tremaining: 6.3s\n",
            "459:\tlearn: 0.0034779\ttotal: 5.35s\tremaining: 6.29s\n",
            "460:\tlearn: 0.0034763\ttotal: 5.36s\tremaining: 6.27s\n",
            "461:\tlearn: 0.0034590\ttotal: 5.37s\tremaining: 6.26s\n",
            "462:\tlearn: 0.0034567\ttotal: 5.39s\tremaining: 6.25s\n",
            "463:\tlearn: 0.0034531\ttotal: 5.4s\tremaining: 6.23s\n",
            "464:\tlearn: 0.0034509\ttotal: 5.41s\tremaining: 6.22s\n",
            "465:\tlearn: 0.0034343\ttotal: 5.42s\tremaining: 6.21s\n",
            "466:\tlearn: 0.0034254\ttotal: 5.43s\tremaining: 6.2s\n",
            "467:\tlearn: 0.0034194\ttotal: 5.44s\tremaining: 6.19s\n",
            "468:\tlearn: 0.0034090\ttotal: 5.46s\tremaining: 6.18s\n",
            "469:\tlearn: 0.0033746\ttotal: 5.47s\tremaining: 6.17s\n",
            "470:\tlearn: 0.0033677\ttotal: 5.48s\tremaining: 6.16s\n",
            "471:\tlearn: 0.0033590\ttotal: 5.49s\tremaining: 6.15s\n",
            "472:\tlearn: 0.0033362\ttotal: 5.5s\tremaining: 6.13s\n",
            "473:\tlearn: 0.0033257\ttotal: 5.51s\tremaining: 6.12s\n",
            "474:\tlearn: 0.0033137\ttotal: 5.53s\tremaining: 6.11s\n",
            "475:\tlearn: 0.0032970\ttotal: 5.54s\tremaining: 6.1s\n",
            "476:\tlearn: 0.0032878\ttotal: 5.55s\tremaining: 6.08s\n",
            "477:\tlearn: 0.0032728\ttotal: 5.56s\tremaining: 6.07s\n",
            "478:\tlearn: 0.0032565\ttotal: 5.57s\tremaining: 6.06s\n",
            "479:\tlearn: 0.0032431\ttotal: 5.58s\tremaining: 6.04s\n",
            "480:\tlearn: 0.0032333\ttotal: 5.59s\tremaining: 6.03s\n",
            "481:\tlearn: 0.0032315\ttotal: 5.6s\tremaining: 6.02s\n",
            "482:\tlearn: 0.0032270\ttotal: 5.61s\tremaining: 6.01s\n",
            "483:\tlearn: 0.0032190\ttotal: 5.63s\tremaining: 6s\n",
            "484:\tlearn: 0.0032127\ttotal: 5.64s\tremaining: 5.99s\n",
            "485:\tlearn: 0.0031908\ttotal: 5.65s\tremaining: 5.97s\n",
            "486:\tlearn: 0.0031678\ttotal: 5.66s\tremaining: 5.96s\n",
            "487:\tlearn: 0.0031463\ttotal: 5.67s\tremaining: 5.95s\n",
            "488:\tlearn: 0.0031359\ttotal: 5.68s\tremaining: 5.94s\n",
            "489:\tlearn: 0.0031292\ttotal: 5.69s\tremaining: 5.93s\n",
            "490:\tlearn: 0.0031235\ttotal: 5.71s\tremaining: 5.91s\n",
            "491:\tlearn: 0.0031115\ttotal: 5.72s\tremaining: 5.9s\n",
            "492:\tlearn: 0.0031105\ttotal: 5.73s\tremaining: 5.89s\n",
            "493:\tlearn: 0.0030992\ttotal: 5.74s\tremaining: 5.88s\n",
            "494:\tlearn: 0.0030978\ttotal: 5.75s\tremaining: 5.87s\n",
            "495:\tlearn: 0.0030973\ttotal: 5.76s\tremaining: 5.86s\n",
            "496:\tlearn: 0.0030873\ttotal: 5.77s\tremaining: 5.84s\n",
            "497:\tlearn: 0.0030430\ttotal: 5.78s\tremaining: 5.83s\n",
            "498:\tlearn: 0.0030289\ttotal: 5.79s\tremaining: 5.82s\n",
            "499:\tlearn: 0.0030177\ttotal: 5.8s\tremaining: 5.8s\n",
            "500:\tlearn: 0.0030166\ttotal: 5.81s\tremaining: 5.79s\n",
            "501:\tlearn: 0.0030133\ttotal: 5.83s\tremaining: 5.78s\n",
            "502:\tlearn: 0.0030125\ttotal: 5.84s\tremaining: 5.77s\n",
            "503:\tlearn: 0.0030069\ttotal: 5.85s\tremaining: 5.75s\n",
            "504:\tlearn: 0.0029949\ttotal: 5.86s\tremaining: 5.74s\n",
            "505:\tlearn: 0.0029835\ttotal: 5.87s\tremaining: 5.73s\n",
            "506:\tlearn: 0.0029804\ttotal: 5.88s\tremaining: 5.72s\n",
            "507:\tlearn: 0.0029744\ttotal: 5.89s\tremaining: 5.7s\n",
            "508:\tlearn: 0.0029663\ttotal: 5.9s\tremaining: 5.69s\n",
            "509:\tlearn: 0.0029631\ttotal: 5.91s\tremaining: 5.68s\n",
            "510:\tlearn: 0.0029556\ttotal: 5.92s\tremaining: 5.66s\n",
            "511:\tlearn: 0.0029536\ttotal: 5.93s\tremaining: 5.65s\n",
            "512:\tlearn: 0.0029393\ttotal: 5.94s\tremaining: 5.64s\n",
            "513:\tlearn: 0.0029368\ttotal: 5.95s\tremaining: 5.63s\n",
            "514:\tlearn: 0.0029182\ttotal: 5.96s\tremaining: 5.61s\n",
            "515:\tlearn: 0.0029121\ttotal: 5.97s\tremaining: 5.6s\n",
            "516:\tlearn: 0.0029029\ttotal: 5.98s\tremaining: 5.59s\n",
            "517:\tlearn: 0.0028867\ttotal: 5.99s\tremaining: 5.58s\n",
            "518:\tlearn: 0.0028819\ttotal: 6.01s\tremaining: 5.57s\n",
            "519:\tlearn: 0.0028774\ttotal: 6.02s\tremaining: 5.56s\n",
            "520:\tlearn: 0.0028628\ttotal: 6.03s\tremaining: 5.55s\n",
            "521:\tlearn: 0.0028619\ttotal: 6.04s\tremaining: 5.54s\n",
            "522:\tlearn: 0.0028583\ttotal: 6.05s\tremaining: 5.52s\n",
            "523:\tlearn: 0.0028362\ttotal: 6.07s\tremaining: 5.51s\n",
            "524:\tlearn: 0.0028255\ttotal: 6.08s\tremaining: 5.5s\n",
            "525:\tlearn: 0.0028233\ttotal: 6.09s\tremaining: 5.48s\n",
            "526:\tlearn: 0.0027979\ttotal: 6.1s\tremaining: 5.47s\n",
            "527:\tlearn: 0.0027947\ttotal: 6.11s\tremaining: 5.46s\n",
            "528:\tlearn: 0.0027877\ttotal: 6.12s\tremaining: 5.45s\n",
            "529:\tlearn: 0.0027855\ttotal: 6.13s\tremaining: 5.43s\n",
            "530:\tlearn: 0.0027815\ttotal: 6.14s\tremaining: 5.42s\n",
            "531:\tlearn: 0.0027770\ttotal: 6.15s\tremaining: 5.41s\n",
            "532:\tlearn: 0.0027610\ttotal: 6.16s\tremaining: 5.4s\n",
            "533:\tlearn: 0.0027588\ttotal: 6.17s\tremaining: 5.39s\n",
            "534:\tlearn: 0.0027463\ttotal: 6.18s\tremaining: 5.37s\n",
            "535:\tlearn: 0.0027366\ttotal: 6.19s\tremaining: 5.36s\n",
            "536:\tlearn: 0.0027338\ttotal: 6.2s\tremaining: 5.35s\n",
            "537:\tlearn: 0.0027315\ttotal: 6.21s\tremaining: 5.33s\n",
            "538:\tlearn: 0.0027298\ttotal: 6.22s\tremaining: 5.32s\n",
            "539:\tlearn: 0.0027254\ttotal: 6.24s\tremaining: 5.31s\n",
            "540:\tlearn: 0.0027183\ttotal: 6.26s\tremaining: 5.31s\n",
            "541:\tlearn: 0.0027126\ttotal: 6.27s\tremaining: 5.3s\n",
            "542:\tlearn: 0.0027123\ttotal: 6.28s\tremaining: 5.28s\n",
            "543:\tlearn: 0.0027080\ttotal: 6.3s\tremaining: 5.28s\n",
            "544:\tlearn: 0.0027064\ttotal: 6.31s\tremaining: 5.27s\n",
            "545:\tlearn: 0.0027027\ttotal: 6.32s\tremaining: 5.25s\n",
            "546:\tlearn: 0.0026877\ttotal: 6.33s\tremaining: 5.24s\n",
            "547:\tlearn: 0.0026851\ttotal: 6.34s\tremaining: 5.23s\n",
            "548:\tlearn: 0.0026762\ttotal: 6.35s\tremaining: 5.22s\n",
            "549:\tlearn: 0.0026750\ttotal: 6.36s\tremaining: 5.21s\n",
            "550:\tlearn: 0.0026653\ttotal: 6.38s\tremaining: 5.19s\n",
            "551:\tlearn: 0.0026611\ttotal: 6.39s\tremaining: 5.18s\n",
            "552:\tlearn: 0.0026463\ttotal: 6.4s\tremaining: 5.17s\n",
            "553:\tlearn: 0.0026412\ttotal: 6.41s\tremaining: 5.16s\n",
            "554:\tlearn: 0.0026378\ttotal: 6.42s\tremaining: 5.15s\n",
            "555:\tlearn: 0.0026287\ttotal: 6.43s\tremaining: 5.14s\n",
            "556:\tlearn: 0.0026219\ttotal: 6.45s\tremaining: 5.13s\n",
            "557:\tlearn: 0.0026199\ttotal: 6.46s\tremaining: 5.12s\n",
            "558:\tlearn: 0.0026111\ttotal: 6.47s\tremaining: 5.1s\n",
            "559:\tlearn: 0.0026104\ttotal: 6.48s\tremaining: 5.09s\n",
            "560:\tlearn: 0.0026078\ttotal: 6.49s\tremaining: 5.08s\n",
            "561:\tlearn: 0.0026050\ttotal: 6.5s\tremaining: 5.07s\n",
            "562:\tlearn: 0.0025949\ttotal: 6.52s\tremaining: 5.06s\n",
            "563:\tlearn: 0.0025946\ttotal: 6.53s\tremaining: 5.05s\n",
            "564:\tlearn: 0.0025909\ttotal: 6.54s\tremaining: 5.03s\n",
            "565:\tlearn: 0.0025800\ttotal: 6.55s\tremaining: 5.02s\n",
            "566:\tlearn: 0.0025768\ttotal: 6.56s\tremaining: 5.01s\n",
            "567:\tlearn: 0.0025687\ttotal: 6.57s\tremaining: 5s\n",
            "568:\tlearn: 0.0025655\ttotal: 6.58s\tremaining: 4.98s\n",
            "569:\tlearn: 0.0025636\ttotal: 6.59s\tremaining: 4.97s\n",
            "570:\tlearn: 0.0025611\ttotal: 6.6s\tremaining: 4.96s\n",
            "571:\tlearn: 0.0025539\ttotal: 6.61s\tremaining: 4.95s\n",
            "572:\tlearn: 0.0025531\ttotal: 6.62s\tremaining: 4.93s\n",
            "573:\tlearn: 0.0025500\ttotal: 6.63s\tremaining: 4.92s\n",
            "574:\tlearn: 0.0025463\ttotal: 6.64s\tremaining: 4.91s\n",
            "575:\tlearn: 0.0025421\ttotal: 6.66s\tremaining: 4.9s\n",
            "576:\tlearn: 0.0025404\ttotal: 6.67s\tremaining: 4.89s\n",
            "577:\tlearn: 0.0025161\ttotal: 6.68s\tremaining: 4.88s\n",
            "578:\tlearn: 0.0025032\ttotal: 6.69s\tremaining: 4.87s\n",
            "579:\tlearn: 0.0025023\ttotal: 6.7s\tremaining: 4.85s\n",
            "580:\tlearn: 0.0024975\ttotal: 6.71s\tremaining: 4.84s\n",
            "581:\tlearn: 0.0024882\ttotal: 6.72s\tremaining: 4.83s\n",
            "582:\tlearn: 0.0024858\ttotal: 6.74s\tremaining: 4.82s\n",
            "583:\tlearn: 0.0024707\ttotal: 6.75s\tremaining: 4.8s\n",
            "584:\tlearn: 0.0024661\ttotal: 6.76s\tremaining: 4.79s\n",
            "585:\tlearn: 0.0024474\ttotal: 6.78s\tremaining: 4.79s\n",
            "586:\tlearn: 0.0024385\ttotal: 6.79s\tremaining: 4.77s\n",
            "587:\tlearn: 0.0024349\ttotal: 6.8s\tremaining: 4.76s\n",
            "588:\tlearn: 0.0024308\ttotal: 6.81s\tremaining: 4.75s\n",
            "589:\tlearn: 0.0024222\ttotal: 6.82s\tremaining: 4.74s\n",
            "590:\tlearn: 0.0024204\ttotal: 6.83s\tremaining: 4.72s\n",
            "591:\tlearn: 0.0024186\ttotal: 6.84s\tremaining: 4.71s\n",
            "592:\tlearn: 0.0024113\ttotal: 6.85s\tremaining: 4.7s\n",
            "593:\tlearn: 0.0024070\ttotal: 6.86s\tremaining: 4.69s\n",
            "594:\tlearn: 0.0024025\ttotal: 6.87s\tremaining: 4.68s\n",
            "595:\tlearn: 0.0023966\ttotal: 6.88s\tremaining: 4.67s\n",
            "596:\tlearn: 0.0023890\ttotal: 6.9s\tremaining: 4.66s\n",
            "597:\tlearn: 0.0023821\ttotal: 6.91s\tremaining: 4.64s\n",
            "598:\tlearn: 0.0023766\ttotal: 6.92s\tremaining: 4.63s\n",
            "599:\tlearn: 0.0023713\ttotal: 6.93s\tremaining: 4.62s\n",
            "600:\tlearn: 0.0023675\ttotal: 6.94s\tremaining: 4.61s\n",
            "601:\tlearn: 0.0023588\ttotal: 6.95s\tremaining: 4.6s\n",
            "602:\tlearn: 0.0023568\ttotal: 6.96s\tremaining: 4.58s\n",
            "603:\tlearn: 0.0023429\ttotal: 6.97s\tremaining: 4.57s\n",
            "604:\tlearn: 0.0023360\ttotal: 6.98s\tremaining: 4.56s\n",
            "605:\tlearn: 0.0023272\ttotal: 6.99s\tremaining: 4.55s\n",
            "606:\tlearn: 0.0023256\ttotal: 7s\tremaining: 4.53s\n",
            "607:\tlearn: 0.0023140\ttotal: 7.01s\tremaining: 4.52s\n",
            "608:\tlearn: 0.0023087\ttotal: 7.03s\tremaining: 4.51s\n",
            "609:\tlearn: 0.0023069\ttotal: 7.04s\tremaining: 4.5s\n",
            "610:\tlearn: 0.0023025\ttotal: 7.06s\tremaining: 4.49s\n",
            "611:\tlearn: 0.0022971\ttotal: 7.07s\tremaining: 4.48s\n",
            "612:\tlearn: 0.0022862\ttotal: 7.08s\tremaining: 4.47s\n",
            "613:\tlearn: 0.0022840\ttotal: 7.09s\tremaining: 4.46s\n",
            "614:\tlearn: 0.0022812\ttotal: 7.1s\tremaining: 4.45s\n",
            "615:\tlearn: 0.0022794\ttotal: 7.11s\tremaining: 4.43s\n",
            "616:\tlearn: 0.0022718\ttotal: 7.13s\tremaining: 4.42s\n",
            "617:\tlearn: 0.0022592\ttotal: 7.14s\tremaining: 4.41s\n",
            "618:\tlearn: 0.0022580\ttotal: 7.15s\tremaining: 4.4s\n",
            "619:\tlearn: 0.0022557\ttotal: 7.16s\tremaining: 4.39s\n",
            "620:\tlearn: 0.0022480\ttotal: 7.17s\tremaining: 4.37s\n",
            "621:\tlearn: 0.0022446\ttotal: 7.18s\tremaining: 4.36s\n",
            "622:\tlearn: 0.0022408\ttotal: 7.19s\tremaining: 4.35s\n",
            "623:\tlearn: 0.0022356\ttotal: 7.2s\tremaining: 4.34s\n",
            "624:\tlearn: 0.0022305\ttotal: 7.21s\tremaining: 4.33s\n",
            "625:\tlearn: 0.0022256\ttotal: 7.22s\tremaining: 4.31s\n",
            "626:\tlearn: 0.0022195\ttotal: 7.23s\tremaining: 4.3s\n",
            "627:\tlearn: 0.0021977\ttotal: 7.24s\tremaining: 4.29s\n",
            "628:\tlearn: 0.0021954\ttotal: 7.25s\tremaining: 4.28s\n",
            "629:\tlearn: 0.0021923\ttotal: 7.26s\tremaining: 4.26s\n",
            "630:\tlearn: 0.0021879\ttotal: 7.27s\tremaining: 4.25s\n",
            "631:\tlearn: 0.0021850\ttotal: 7.28s\tremaining: 4.24s\n",
            "632:\tlearn: 0.0021770\ttotal: 7.31s\tremaining: 4.24s\n",
            "633:\tlearn: 0.0021725\ttotal: 7.32s\tremaining: 4.22s\n",
            "634:\tlearn: 0.0021596\ttotal: 7.34s\tremaining: 4.22s\n",
            "635:\tlearn: 0.0021576\ttotal: 7.36s\tremaining: 4.21s\n",
            "636:\tlearn: 0.0021509\ttotal: 7.38s\tremaining: 4.21s\n",
            "637:\tlearn: 0.0021485\ttotal: 7.4s\tremaining: 4.2s\n",
            "638:\tlearn: 0.0021420\ttotal: 7.42s\tremaining: 4.19s\n",
            "639:\tlearn: 0.0021359\ttotal: 7.44s\tremaining: 4.18s\n",
            "640:\tlearn: 0.0021279\ttotal: 7.46s\tremaining: 4.18s\n",
            "641:\tlearn: 0.0021167\ttotal: 7.48s\tremaining: 4.17s\n",
            "642:\tlearn: 0.0021129\ttotal: 7.5s\tremaining: 4.16s\n",
            "643:\tlearn: 0.0021112\ttotal: 7.52s\tremaining: 4.16s\n",
            "644:\tlearn: 0.0021107\ttotal: 7.54s\tremaining: 4.15s\n",
            "645:\tlearn: 0.0021097\ttotal: 7.56s\tremaining: 4.14s\n",
            "646:\tlearn: 0.0021069\ttotal: 7.58s\tremaining: 4.13s\n",
            "647:\tlearn: 0.0021043\ttotal: 7.6s\tremaining: 4.13s\n",
            "648:\tlearn: 0.0021019\ttotal: 7.62s\tremaining: 4.12s\n",
            "649:\tlearn: 0.0021016\ttotal: 7.64s\tremaining: 4.12s\n",
            "650:\tlearn: 0.0020979\ttotal: 7.67s\tremaining: 4.11s\n",
            "651:\tlearn: 0.0020927\ttotal: 7.69s\tremaining: 4.1s\n",
            "652:\tlearn: 0.0020872\ttotal: 7.71s\tremaining: 4.1s\n",
            "653:\tlearn: 0.0020836\ttotal: 7.74s\tremaining: 4.09s\n",
            "654:\tlearn: 0.0020750\ttotal: 7.76s\tremaining: 4.09s\n",
            "655:\tlearn: 0.0020562\ttotal: 7.78s\tremaining: 4.08s\n",
            "656:\tlearn: 0.0020511\ttotal: 7.8s\tremaining: 4.07s\n",
            "657:\tlearn: 0.0020465\ttotal: 7.83s\tremaining: 4.07s\n",
            "658:\tlearn: 0.0020445\ttotal: 7.85s\tremaining: 4.06s\n",
            "659:\tlearn: 0.0020305\ttotal: 7.87s\tremaining: 4.05s\n",
            "660:\tlearn: 0.0020239\ttotal: 7.89s\tremaining: 4.05s\n",
            "661:\tlearn: 0.0020203\ttotal: 7.91s\tremaining: 4.04s\n",
            "662:\tlearn: 0.0020168\ttotal: 7.93s\tremaining: 4.03s\n",
            "663:\tlearn: 0.0020159\ttotal: 7.95s\tremaining: 4.03s\n",
            "664:\tlearn: 0.0020130\ttotal: 7.98s\tremaining: 4.02s\n",
            "665:\tlearn: 0.0020111\ttotal: 8s\tremaining: 4.01s\n",
            "666:\tlearn: 0.0020064\ttotal: 8.02s\tremaining: 4s\n",
            "667:\tlearn: 0.0020034\ttotal: 8.04s\tremaining: 4s\n",
            "668:\tlearn: 0.0019998\ttotal: 8.07s\tremaining: 3.99s\n",
            "669:\tlearn: 0.0019963\ttotal: 8.09s\tremaining: 3.98s\n",
            "670:\tlearn: 0.0019945\ttotal: 8.11s\tremaining: 3.98s\n",
            "671:\tlearn: 0.0019875\ttotal: 8.13s\tremaining: 3.97s\n",
            "672:\tlearn: 0.0019852\ttotal: 8.15s\tremaining: 3.96s\n",
            "673:\tlearn: 0.0019771\ttotal: 8.18s\tremaining: 3.96s\n",
            "674:\tlearn: 0.0019733\ttotal: 8.2s\tremaining: 3.95s\n",
            "675:\tlearn: 0.0019698\ttotal: 8.22s\tremaining: 3.94s\n",
            "676:\tlearn: 0.0019687\ttotal: 8.24s\tremaining: 3.93s\n",
            "677:\tlearn: 0.0019648\ttotal: 8.26s\tremaining: 3.92s\n",
            "678:\tlearn: 0.0019634\ttotal: 8.29s\tremaining: 3.92s\n",
            "679:\tlearn: 0.0019624\ttotal: 8.32s\tremaining: 3.91s\n",
            "680:\tlearn: 0.0019573\ttotal: 8.34s\tremaining: 3.91s\n",
            "681:\tlearn: 0.0019482\ttotal: 8.36s\tremaining: 3.9s\n",
            "682:\tlearn: 0.0019473\ttotal: 8.39s\tremaining: 3.89s\n",
            "683:\tlearn: 0.0019440\ttotal: 8.41s\tremaining: 3.88s\n",
            "684:\tlearn: 0.0019422\ttotal: 8.43s\tremaining: 3.88s\n",
            "685:\tlearn: 0.0019344\ttotal: 8.45s\tremaining: 3.87s\n",
            "686:\tlearn: 0.0019316\ttotal: 8.48s\tremaining: 3.86s\n",
            "687:\tlearn: 0.0019313\ttotal: 8.5s\tremaining: 3.85s\n",
            "688:\tlearn: 0.0019274\ttotal: 8.52s\tremaining: 3.85s\n",
            "689:\tlearn: 0.0019244\ttotal: 8.54s\tremaining: 3.84s\n",
            "690:\tlearn: 0.0019221\ttotal: 8.56s\tremaining: 3.83s\n",
            "691:\tlearn: 0.0019202\ttotal: 8.58s\tremaining: 3.82s\n",
            "692:\tlearn: 0.0019166\ttotal: 8.61s\tremaining: 3.81s\n",
            "693:\tlearn: 0.0019138\ttotal: 8.63s\tremaining: 3.81s\n",
            "694:\tlearn: 0.0019119\ttotal: 8.65s\tremaining: 3.8s\n",
            "695:\tlearn: 0.0019081\ttotal: 8.68s\tremaining: 3.79s\n",
            "696:\tlearn: 0.0019046\ttotal: 8.71s\tremaining: 3.79s\n",
            "697:\tlearn: 0.0018997\ttotal: 8.73s\tremaining: 3.78s\n",
            "698:\tlearn: 0.0018986\ttotal: 8.76s\tremaining: 3.77s\n",
            "699:\tlearn: 0.0018963\ttotal: 8.78s\tremaining: 3.76s\n",
            "700:\tlearn: 0.0018846\ttotal: 8.8s\tremaining: 3.75s\n",
            "701:\tlearn: 0.0018779\ttotal: 8.83s\tremaining: 3.75s\n",
            "702:\tlearn: 0.0018772\ttotal: 8.85s\tremaining: 3.74s\n",
            "703:\tlearn: 0.0018725\ttotal: 8.88s\tremaining: 3.73s\n",
            "704:\tlearn: 0.0018702\ttotal: 8.9s\tremaining: 3.72s\n",
            "705:\tlearn: 0.0018616\ttotal: 8.93s\tremaining: 3.72s\n",
            "706:\tlearn: 0.0018594\ttotal: 8.96s\tremaining: 3.71s\n",
            "707:\tlearn: 0.0018571\ttotal: 8.98s\tremaining: 3.7s\n",
            "708:\tlearn: 0.0018541\ttotal: 9s\tremaining: 3.69s\n",
            "709:\tlearn: 0.0018519\ttotal: 9.02s\tremaining: 3.69s\n",
            "710:\tlearn: 0.0018488\ttotal: 9.05s\tremaining: 3.68s\n",
            "711:\tlearn: 0.0018479\ttotal: 9.07s\tremaining: 3.67s\n",
            "712:\tlearn: 0.0018461\ttotal: 9.09s\tremaining: 3.66s\n",
            "713:\tlearn: 0.0018435\ttotal: 9.11s\tremaining: 3.65s\n",
            "714:\tlearn: 0.0018384\ttotal: 9.14s\tremaining: 3.64s\n",
            "715:\tlearn: 0.0018350\ttotal: 9.16s\tremaining: 3.63s\n",
            "716:\tlearn: 0.0018347\ttotal: 9.18s\tremaining: 3.62s\n",
            "717:\tlearn: 0.0018327\ttotal: 9.2s\tremaining: 3.62s\n",
            "718:\tlearn: 0.0018296\ttotal: 9.23s\tremaining: 3.61s\n",
            "719:\tlearn: 0.0018281\ttotal: 9.25s\tremaining: 3.6s\n",
            "720:\tlearn: 0.0018224\ttotal: 9.27s\tremaining: 3.59s\n",
            "721:\tlearn: 0.0018192\ttotal: 9.29s\tremaining: 3.58s\n",
            "722:\tlearn: 0.0018166\ttotal: 9.32s\tremaining: 3.57s\n",
            "723:\tlearn: 0.0018121\ttotal: 9.35s\tremaining: 3.56s\n",
            "724:\tlearn: 0.0018090\ttotal: 9.37s\tremaining: 3.55s\n",
            "725:\tlearn: 0.0018076\ttotal: 9.39s\tremaining: 3.54s\n",
            "726:\tlearn: 0.0017980\ttotal: 9.41s\tremaining: 3.53s\n",
            "727:\tlearn: 0.0017971\ttotal: 9.44s\tremaining: 3.52s\n",
            "728:\tlearn: 0.0017940\ttotal: 9.46s\tremaining: 3.52s\n",
            "729:\tlearn: 0.0017929\ttotal: 9.48s\tremaining: 3.51s\n",
            "730:\tlearn: 0.0017896\ttotal: 9.5s\tremaining: 3.5s\n",
            "731:\tlearn: 0.0017889\ttotal: 9.53s\tremaining: 3.49s\n",
            "732:\tlearn: 0.0017886\ttotal: 9.55s\tremaining: 3.48s\n",
            "733:\tlearn: 0.0017867\ttotal: 9.57s\tremaining: 3.47s\n",
            "734:\tlearn: 0.0017852\ttotal: 9.59s\tremaining: 3.46s\n",
            "735:\tlearn: 0.0017773\ttotal: 9.62s\tremaining: 3.45s\n",
            "736:\tlearn: 0.0017704\ttotal: 9.64s\tremaining: 3.44s\n",
            "737:\tlearn: 0.0017671\ttotal: 9.66s\tremaining: 3.43s\n",
            "738:\tlearn: 0.0017660\ttotal: 9.69s\tremaining: 3.42s\n",
            "739:\tlearn: 0.0017657\ttotal: 9.71s\tremaining: 3.41s\n",
            "740:\tlearn: 0.0017653\ttotal: 9.73s\tremaining: 3.4s\n",
            "741:\tlearn: 0.0017618\ttotal: 9.76s\tremaining: 3.39s\n",
            "742:\tlearn: 0.0017611\ttotal: 9.77s\tremaining: 3.38s\n",
            "743:\tlearn: 0.0017599\ttotal: 9.78s\tremaining: 3.36s\n",
            "744:\tlearn: 0.0017537\ttotal: 9.79s\tremaining: 3.35s\n",
            "745:\tlearn: 0.0017508\ttotal: 9.8s\tremaining: 3.34s\n",
            "746:\tlearn: 0.0017491\ttotal: 9.81s\tremaining: 3.32s\n",
            "747:\tlearn: 0.0017437\ttotal: 9.82s\tremaining: 3.31s\n",
            "748:\tlearn: 0.0017393\ttotal: 9.84s\tremaining: 3.3s\n",
            "749:\tlearn: 0.0017320\ttotal: 9.85s\tremaining: 3.28s\n",
            "750:\tlearn: 0.0017306\ttotal: 9.86s\tremaining: 3.27s\n",
            "751:\tlearn: 0.0017217\ttotal: 9.87s\tremaining: 3.25s\n",
            "752:\tlearn: 0.0017212\ttotal: 9.88s\tremaining: 3.24s\n",
            "753:\tlearn: 0.0017204\ttotal: 9.89s\tremaining: 3.23s\n",
            "754:\tlearn: 0.0017199\ttotal: 9.9s\tremaining: 3.21s\n",
            "755:\tlearn: 0.0017134\ttotal: 9.91s\tremaining: 3.2s\n",
            "756:\tlearn: 0.0017112\ttotal: 9.92s\tremaining: 3.18s\n",
            "757:\tlearn: 0.0017077\ttotal: 9.93s\tremaining: 3.17s\n",
            "758:\tlearn: 0.0017047\ttotal: 9.95s\tremaining: 3.16s\n",
            "759:\tlearn: 0.0017044\ttotal: 9.96s\tremaining: 3.15s\n",
            "760:\tlearn: 0.0017037\ttotal: 9.97s\tremaining: 3.13s\n",
            "761:\tlearn: 0.0017001\ttotal: 9.98s\tremaining: 3.12s\n",
            "762:\tlearn: 0.0016971\ttotal: 9.99s\tremaining: 3.1s\n",
            "763:\tlearn: 0.0016943\ttotal: 10s\tremaining: 3.09s\n",
            "764:\tlearn: 0.0016926\ttotal: 10s\tremaining: 3.08s\n",
            "765:\tlearn: 0.0016914\ttotal: 10s\tremaining: 3.06s\n",
            "766:\tlearn: 0.0016903\ttotal: 10s\tremaining: 3.05s\n",
            "767:\tlearn: 0.0016895\ttotal: 10s\tremaining: 3.04s\n",
            "768:\tlearn: 0.0016874\ttotal: 10.1s\tremaining: 3.02s\n",
            "769:\tlearn: 0.0016845\ttotal: 10.1s\tremaining: 3.01s\n",
            "770:\tlearn: 0.0016833\ttotal: 10.1s\tremaining: 3s\n",
            "771:\tlearn: 0.0016813\ttotal: 10.1s\tremaining: 2.98s\n",
            "772:\tlearn: 0.0016799\ttotal: 10.1s\tremaining: 2.97s\n",
            "773:\tlearn: 0.0016723\ttotal: 10.1s\tremaining: 2.95s\n",
            "774:\tlearn: 0.0016620\ttotal: 10.1s\tremaining: 2.94s\n",
            "775:\tlearn: 0.0016567\ttotal: 10.1s\tremaining: 2.93s\n",
            "776:\tlearn: 0.0016521\ttotal: 10.1s\tremaining: 2.91s\n",
            "777:\tlearn: 0.0016514\ttotal: 10.2s\tremaining: 2.9s\n",
            "778:\tlearn: 0.0016504\ttotal: 10.2s\tremaining: 2.89s\n",
            "779:\tlearn: 0.0016471\ttotal: 10.2s\tremaining: 2.87s\n",
            "780:\tlearn: 0.0016469\ttotal: 10.2s\tremaining: 2.86s\n",
            "781:\tlearn: 0.0016452\ttotal: 10.2s\tremaining: 2.85s\n",
            "782:\tlearn: 0.0016417\ttotal: 10.2s\tremaining: 2.83s\n",
            "783:\tlearn: 0.0016398\ttotal: 10.2s\tremaining: 2.82s\n",
            "784:\tlearn: 0.0016390\ttotal: 10.2s\tremaining: 2.8s\n",
            "785:\tlearn: 0.0016384\ttotal: 10.3s\tremaining: 2.79s\n",
            "786:\tlearn: 0.0016342\ttotal: 10.3s\tremaining: 2.78s\n",
            "787:\tlearn: 0.0016336\ttotal: 10.3s\tremaining: 2.76s\n",
            "788:\tlearn: 0.0016314\ttotal: 10.3s\tremaining: 2.75s\n",
            "789:\tlearn: 0.0016283\ttotal: 10.3s\tremaining: 2.73s\n",
            "790:\tlearn: 0.0016240\ttotal: 10.3s\tremaining: 2.72s\n",
            "791:\tlearn: 0.0016206\ttotal: 10.3s\tremaining: 2.71s\n",
            "792:\tlearn: 0.0016094\ttotal: 10.3s\tremaining: 2.7s\n",
            "793:\tlearn: 0.0016071\ttotal: 10.3s\tremaining: 2.69s\n",
            "794:\tlearn: 0.0016059\ttotal: 10.4s\tremaining: 2.67s\n",
            "795:\tlearn: 0.0016026\ttotal: 10.4s\tremaining: 2.66s\n",
            "796:\tlearn: 0.0016012\ttotal: 10.4s\tremaining: 2.65s\n",
            "797:\tlearn: 0.0015976\ttotal: 10.4s\tremaining: 2.63s\n",
            "798:\tlearn: 0.0015962\ttotal: 10.4s\tremaining: 2.62s\n",
            "799:\tlearn: 0.0015953\ttotal: 10.4s\tremaining: 2.6s\n",
            "800:\tlearn: 0.0015917\ttotal: 10.4s\tremaining: 2.59s\n",
            "801:\tlearn: 0.0015914\ttotal: 10.4s\tremaining: 2.58s\n",
            "802:\tlearn: 0.0015877\ttotal: 10.5s\tremaining: 2.56s\n",
            "803:\tlearn: 0.0015870\ttotal: 10.5s\tremaining: 2.55s\n",
            "804:\tlearn: 0.0015860\ttotal: 10.5s\tremaining: 2.54s\n",
            "805:\tlearn: 0.0015833\ttotal: 10.5s\tremaining: 2.52s\n",
            "806:\tlearn: 0.0015783\ttotal: 10.5s\tremaining: 2.51s\n",
            "807:\tlearn: 0.0015698\ttotal: 10.5s\tremaining: 2.5s\n",
            "808:\tlearn: 0.0015654\ttotal: 10.5s\tremaining: 2.48s\n",
            "809:\tlearn: 0.0015626\ttotal: 10.5s\tremaining: 2.47s\n",
            "810:\tlearn: 0.0015607\ttotal: 10.5s\tremaining: 2.46s\n",
            "811:\tlearn: 0.0015567\ttotal: 10.6s\tremaining: 2.44s\n",
            "812:\tlearn: 0.0015518\ttotal: 10.6s\tremaining: 2.43s\n",
            "813:\tlearn: 0.0015510\ttotal: 10.6s\tremaining: 2.42s\n",
            "814:\tlearn: 0.0015502\ttotal: 10.6s\tremaining: 2.4s\n",
            "815:\tlearn: 0.0015458\ttotal: 10.6s\tremaining: 2.39s\n",
            "816:\tlearn: 0.0015440\ttotal: 10.6s\tremaining: 2.38s\n",
            "817:\tlearn: 0.0015410\ttotal: 10.6s\tremaining: 2.36s\n",
            "818:\tlearn: 0.0015389\ttotal: 10.6s\tremaining: 2.35s\n",
            "819:\tlearn: 0.0015330\ttotal: 10.6s\tremaining: 2.34s\n",
            "820:\tlearn: 0.0015280\ttotal: 10.7s\tremaining: 2.32s\n",
            "821:\tlearn: 0.0015262\ttotal: 10.7s\tremaining: 2.31s\n",
            "822:\tlearn: 0.0015259\ttotal: 10.7s\tremaining: 2.3s\n",
            "823:\tlearn: 0.0015249\ttotal: 10.7s\tremaining: 2.28s\n",
            "824:\tlearn: 0.0015210\ttotal: 10.7s\tremaining: 2.27s\n",
            "825:\tlearn: 0.0015132\ttotal: 10.7s\tremaining: 2.26s\n",
            "826:\tlearn: 0.0015124\ttotal: 10.7s\tremaining: 2.24s\n",
            "827:\tlearn: 0.0015111\ttotal: 10.7s\tremaining: 2.23s\n",
            "828:\tlearn: 0.0015099\ttotal: 10.7s\tremaining: 2.21s\n",
            "829:\tlearn: 0.0015096\ttotal: 10.8s\tremaining: 2.2s\n",
            "830:\tlearn: 0.0015070\ttotal: 10.8s\tremaining: 2.19s\n",
            "831:\tlearn: 0.0015064\ttotal: 10.8s\tremaining: 2.17s\n",
            "832:\tlearn: 0.0015050\ttotal: 10.8s\tremaining: 2.16s\n",
            "833:\tlearn: 0.0015028\ttotal: 10.8s\tremaining: 2.15s\n",
            "834:\tlearn: 0.0014943\ttotal: 10.8s\tremaining: 2.13s\n",
            "835:\tlearn: 0.0014899\ttotal: 10.8s\tremaining: 2.12s\n",
            "836:\tlearn: 0.0014871\ttotal: 10.8s\tremaining: 2.11s\n",
            "837:\tlearn: 0.0014857\ttotal: 10.8s\tremaining: 2.1s\n",
            "838:\tlearn: 0.0014848\ttotal: 10.9s\tremaining: 2.08s\n",
            "839:\tlearn: 0.0014845\ttotal: 10.9s\tremaining: 2.07s\n",
            "840:\tlearn: 0.0014831\ttotal: 10.9s\tremaining: 2.06s\n",
            "841:\tlearn: 0.0014815\ttotal: 10.9s\tremaining: 2.05s\n",
            "842:\tlearn: 0.0014750\ttotal: 10.9s\tremaining: 2.04s\n",
            "843:\tlearn: 0.0014728\ttotal: 10.9s\tremaining: 2.02s\n",
            "844:\tlearn: 0.0014718\ttotal: 11s\tremaining: 2.01s\n",
            "845:\tlearn: 0.0014692\ttotal: 11s\tremaining: 2s\n",
            "846:\tlearn: 0.0014614\ttotal: 11s\tremaining: 1.98s\n",
            "847:\tlearn: 0.0014576\ttotal: 11s\tremaining: 1.97s\n",
            "848:\tlearn: 0.0014554\ttotal: 11s\tremaining: 1.96s\n",
            "849:\tlearn: 0.0014541\ttotal: 11s\tremaining: 1.94s\n",
            "850:\tlearn: 0.0014483\ttotal: 11s\tremaining: 1.93s\n",
            "851:\tlearn: 0.0014466\ttotal: 11s\tremaining: 1.92s\n",
            "852:\tlearn: 0.0014460\ttotal: 11s\tremaining: 1.9s\n",
            "853:\tlearn: 0.0014452\ttotal: 11.1s\tremaining: 1.89s\n",
            "854:\tlearn: 0.0014448\ttotal: 11.1s\tremaining: 1.88s\n",
            "855:\tlearn: 0.0014438\ttotal: 11.1s\tremaining: 1.86s\n",
            "856:\tlearn: 0.0014401\ttotal: 11.1s\tremaining: 1.85s\n",
            "857:\tlearn: 0.0014334\ttotal: 11.1s\tremaining: 1.84s\n",
            "858:\tlearn: 0.0014320\ttotal: 11.1s\tremaining: 1.82s\n",
            "859:\tlearn: 0.0014304\ttotal: 11.1s\tremaining: 1.81s\n",
            "860:\tlearn: 0.0014258\ttotal: 11.1s\tremaining: 1.8s\n",
            "861:\tlearn: 0.0014246\ttotal: 11.1s\tremaining: 1.78s\n",
            "862:\tlearn: 0.0014210\ttotal: 11.2s\tremaining: 1.77s\n",
            "863:\tlearn: 0.0014188\ttotal: 11.2s\tremaining: 1.76s\n",
            "864:\tlearn: 0.0014182\ttotal: 11.2s\tremaining: 1.74s\n",
            "865:\tlearn: 0.0014176\ttotal: 11.2s\tremaining: 1.73s\n",
            "866:\tlearn: 0.0014127\ttotal: 11.2s\tremaining: 1.72s\n",
            "867:\tlearn: 0.0014102\ttotal: 11.2s\tremaining: 1.7s\n",
            "868:\tlearn: 0.0014098\ttotal: 11.2s\tremaining: 1.69s\n",
            "869:\tlearn: 0.0014085\ttotal: 11.2s\tremaining: 1.68s\n",
            "870:\tlearn: 0.0014043\ttotal: 11.2s\tremaining: 1.66s\n",
            "871:\tlearn: 0.0014028\ttotal: 11.2s\tremaining: 1.65s\n",
            "872:\tlearn: 0.0013966\ttotal: 11.3s\tremaining: 1.64s\n",
            "873:\tlearn: 0.0013941\ttotal: 11.3s\tremaining: 1.62s\n",
            "874:\tlearn: 0.0013925\ttotal: 11.3s\tremaining: 1.61s\n",
            "875:\tlearn: 0.0013898\ttotal: 11.3s\tremaining: 1.6s\n",
            "876:\tlearn: 0.0013875\ttotal: 11.3s\tremaining: 1.58s\n",
            "877:\tlearn: 0.0013871\ttotal: 11.3s\tremaining: 1.57s\n",
            "878:\tlearn: 0.0013829\ttotal: 11.3s\tremaining: 1.56s\n",
            "879:\tlearn: 0.0013814\ttotal: 11.3s\tremaining: 1.54s\n",
            "880:\tlearn: 0.0013796\ttotal: 11.3s\tremaining: 1.53s\n",
            "881:\tlearn: 0.0013794\ttotal: 11.4s\tremaining: 1.52s\n",
            "882:\tlearn: 0.0013779\ttotal: 11.4s\tremaining: 1.51s\n",
            "883:\tlearn: 0.0013763\ttotal: 11.4s\tremaining: 1.5s\n",
            "884:\tlearn: 0.0013753\ttotal: 11.4s\tremaining: 1.48s\n",
            "885:\tlearn: 0.0013739\ttotal: 11.4s\tremaining: 1.47s\n",
            "886:\tlearn: 0.0013729\ttotal: 11.4s\tremaining: 1.46s\n",
            "887:\tlearn: 0.0013706\ttotal: 11.4s\tremaining: 1.44s\n",
            "888:\tlearn: 0.0013703\ttotal: 11.4s\tremaining: 1.43s\n",
            "889:\tlearn: 0.0013684\ttotal: 11.5s\tremaining: 1.42s\n",
            "890:\tlearn: 0.0013664\ttotal: 11.5s\tremaining: 1.4s\n",
            "891:\tlearn: 0.0013655\ttotal: 11.5s\tremaining: 1.39s\n",
            "892:\tlearn: 0.0013646\ttotal: 11.5s\tremaining: 1.38s\n",
            "893:\tlearn: 0.0013612\ttotal: 11.5s\tremaining: 1.36s\n",
            "894:\tlearn: 0.0013602\ttotal: 11.5s\tremaining: 1.35s\n",
            "895:\tlearn: 0.0013558\ttotal: 11.5s\tremaining: 1.34s\n",
            "896:\tlearn: 0.0013545\ttotal: 11.5s\tremaining: 1.32s\n",
            "897:\tlearn: 0.0013538\ttotal: 11.6s\tremaining: 1.31s\n",
            "898:\tlearn: 0.0013533\ttotal: 11.6s\tremaining: 1.3s\n",
            "899:\tlearn: 0.0013523\ttotal: 11.6s\tremaining: 1.28s\n",
            "900:\tlearn: 0.0013502\ttotal: 11.6s\tremaining: 1.27s\n",
            "901:\tlearn: 0.0013486\ttotal: 11.6s\tremaining: 1.26s\n",
            "902:\tlearn: 0.0013466\ttotal: 11.6s\tremaining: 1.25s\n",
            "903:\tlearn: 0.0013461\ttotal: 11.6s\tremaining: 1.23s\n",
            "904:\tlearn: 0.0013443\ttotal: 11.6s\tremaining: 1.22s\n",
            "905:\tlearn: 0.0013432\ttotal: 11.6s\tremaining: 1.21s\n",
            "906:\tlearn: 0.0013411\ttotal: 11.7s\tremaining: 1.19s\n",
            "907:\tlearn: 0.0013400\ttotal: 11.7s\tremaining: 1.18s\n",
            "908:\tlearn: 0.0013390\ttotal: 11.7s\tremaining: 1.17s\n",
            "909:\tlearn: 0.0013380\ttotal: 11.7s\tremaining: 1.16s\n",
            "910:\tlearn: 0.0013367\ttotal: 11.7s\tremaining: 1.14s\n",
            "911:\tlearn: 0.0013352\ttotal: 11.7s\tremaining: 1.13s\n",
            "912:\tlearn: 0.0013336\ttotal: 11.7s\tremaining: 1.12s\n",
            "913:\tlearn: 0.0013330\ttotal: 11.7s\tremaining: 1.1s\n",
            "914:\tlearn: 0.0013317\ttotal: 11.7s\tremaining: 1.09s\n",
            "915:\tlearn: 0.0013293\ttotal: 11.8s\tremaining: 1.08s\n",
            "916:\tlearn: 0.0013289\ttotal: 11.8s\tremaining: 1.06s\n",
            "917:\tlearn: 0.0013274\ttotal: 11.8s\tremaining: 1.05s\n",
            "918:\tlearn: 0.0013258\ttotal: 11.8s\tremaining: 1.04s\n",
            "919:\tlearn: 0.0013249\ttotal: 11.8s\tremaining: 1.02s\n",
            "920:\tlearn: 0.0013236\ttotal: 11.8s\tremaining: 1.01s\n",
            "921:\tlearn: 0.0013223\ttotal: 11.8s\tremaining: 999ms\n",
            "922:\tlearn: 0.0013213\ttotal: 11.8s\tremaining: 986ms\n",
            "923:\tlearn: 0.0013190\ttotal: 11.8s\tremaining: 974ms\n",
            "924:\tlearn: 0.0013187\ttotal: 11.8s\tremaining: 961ms\n",
            "925:\tlearn: 0.0013160\ttotal: 11.9s\tremaining: 948ms\n",
            "926:\tlearn: 0.0013083\ttotal: 11.9s\tremaining: 935ms\n",
            "927:\tlearn: 0.0013072\ttotal: 11.9s\tremaining: 923ms\n",
            "928:\tlearn: 0.0013015\ttotal: 11.9s\tremaining: 910ms\n",
            "929:\tlearn: 0.0013005\ttotal: 11.9s\tremaining: 897ms\n",
            "930:\tlearn: 0.0012986\ttotal: 11.9s\tremaining: 885ms\n",
            "931:\tlearn: 0.0012979\ttotal: 11.9s\tremaining: 872ms\n",
            "932:\tlearn: 0.0012961\ttotal: 12s\tremaining: 859ms\n",
            "933:\tlearn: 0.0012960\ttotal: 12s\tremaining: 846ms\n",
            "934:\tlearn: 0.0012942\ttotal: 12s\tremaining: 833ms\n",
            "935:\tlearn: 0.0012919\ttotal: 12s\tremaining: 820ms\n",
            "936:\tlearn: 0.0012915\ttotal: 12s\tremaining: 806ms\n",
            "937:\tlearn: 0.0012909\ttotal: 12s\tremaining: 793ms\n",
            "938:\tlearn: 0.0012904\ttotal: 12s\tremaining: 781ms\n",
            "939:\tlearn: 0.0012883\ttotal: 12s\tremaining: 768ms\n",
            "940:\tlearn: 0.0012876\ttotal: 12s\tremaining: 755ms\n",
            "941:\tlearn: 0.0012866\ttotal: 12.1s\tremaining: 742ms\n",
            "942:\tlearn: 0.0012853\ttotal: 12.1s\tremaining: 729ms\n",
            "943:\tlearn: 0.0012843\ttotal: 12.1s\tremaining: 716ms\n",
            "944:\tlearn: 0.0012831\ttotal: 12.1s\tremaining: 704ms\n",
            "945:\tlearn: 0.0012822\ttotal: 12.1s\tremaining: 691ms\n",
            "946:\tlearn: 0.0012794\ttotal: 12.1s\tremaining: 678ms\n",
            "947:\tlearn: 0.0012787\ttotal: 12.1s\tremaining: 665ms\n",
            "948:\tlearn: 0.0012764\ttotal: 12.1s\tremaining: 652ms\n",
            "949:\tlearn: 0.0012744\ttotal: 12.1s\tremaining: 639ms\n",
            "950:\tlearn: 0.0012714\ttotal: 12.1s\tremaining: 626ms\n",
            "951:\tlearn: 0.0012709\ttotal: 12.2s\tremaining: 613ms\n",
            "952:\tlearn: 0.0012664\ttotal: 12.2s\tremaining: 600ms\n",
            "953:\tlearn: 0.0012633\ttotal: 12.2s\tremaining: 587ms\n",
            "954:\tlearn: 0.0012616\ttotal: 12.2s\tremaining: 574ms\n",
            "955:\tlearn: 0.0012569\ttotal: 12.2s\tremaining: 561ms\n",
            "956:\tlearn: 0.0012551\ttotal: 12.2s\tremaining: 548ms\n",
            "957:\tlearn: 0.0012503\ttotal: 12.2s\tremaining: 536ms\n",
            "958:\tlearn: 0.0012453\ttotal: 12.2s\tremaining: 523ms\n",
            "959:\tlearn: 0.0012451\ttotal: 12.2s\tremaining: 510ms\n",
            "960:\tlearn: 0.0012447\ttotal: 12.3s\tremaining: 497ms\n",
            "961:\tlearn: 0.0012440\ttotal: 12.3s\tremaining: 484ms\n",
            "962:\tlearn: 0.0012383\ttotal: 12.3s\tremaining: 472ms\n",
            "963:\tlearn: 0.0012375\ttotal: 12.3s\tremaining: 459ms\n",
            "964:\tlearn: 0.0012361\ttotal: 12.3s\tremaining: 446ms\n",
            "965:\tlearn: 0.0012322\ttotal: 12.3s\tremaining: 433ms\n",
            "966:\tlearn: 0.0012300\ttotal: 12.3s\tremaining: 421ms\n",
            "967:\tlearn: 0.0012289\ttotal: 12.3s\tremaining: 408ms\n",
            "968:\tlearn: 0.0012284\ttotal: 12.3s\tremaining: 395ms\n",
            "969:\tlearn: 0.0012273\ttotal: 12.4s\tremaining: 382ms\n",
            "970:\tlearn: 0.0012269\ttotal: 12.4s\tremaining: 370ms\n",
            "971:\tlearn: 0.0012263\ttotal: 12.4s\tremaining: 357ms\n",
            "972:\tlearn: 0.0012260\ttotal: 12.4s\tremaining: 344ms\n",
            "973:\tlearn: 0.0012235\ttotal: 12.4s\tremaining: 331ms\n",
            "974:\tlearn: 0.0012216\ttotal: 12.4s\tremaining: 318ms\n",
            "975:\tlearn: 0.0012189\ttotal: 12.4s\tremaining: 306ms\n",
            "976:\tlearn: 0.0012154\ttotal: 12.4s\tremaining: 293ms\n",
            "977:\tlearn: 0.0012146\ttotal: 12.4s\tremaining: 280ms\n",
            "978:\tlearn: 0.0012142\ttotal: 12.5s\tremaining: 267ms\n",
            "979:\tlearn: 0.0012139\ttotal: 12.5s\tremaining: 255ms\n",
            "980:\tlearn: 0.0012109\ttotal: 12.5s\tremaining: 242ms\n",
            "981:\tlearn: 0.0012103\ttotal: 12.5s\tremaining: 229ms\n",
            "982:\tlearn: 0.0012083\ttotal: 12.5s\tremaining: 216ms\n",
            "983:\tlearn: 0.0012075\ttotal: 12.5s\tremaining: 203ms\n",
            "984:\tlearn: 0.0012037\ttotal: 12.5s\tremaining: 191ms\n",
            "985:\tlearn: 0.0012029\ttotal: 12.5s\tremaining: 178ms\n",
            "986:\tlearn: 0.0012025\ttotal: 12.5s\tremaining: 165ms\n",
            "987:\tlearn: 0.0012004\ttotal: 12.6s\tremaining: 153ms\n",
            "988:\tlearn: 0.0011992\ttotal: 12.6s\tremaining: 140ms\n",
            "989:\tlearn: 0.0011980\ttotal: 12.6s\tremaining: 127ms\n",
            "990:\tlearn: 0.0011954\ttotal: 12.6s\tremaining: 114ms\n",
            "991:\tlearn: 0.0011948\ttotal: 12.6s\tremaining: 102ms\n",
            "992:\tlearn: 0.0011935\ttotal: 12.6s\tremaining: 89ms\n",
            "993:\tlearn: 0.0011925\ttotal: 12.6s\tremaining: 76.2ms\n",
            "994:\tlearn: 0.0011921\ttotal: 12.6s\tremaining: 63.5ms\n",
            "995:\tlearn: 0.0011912\ttotal: 12.7s\tremaining: 50.8ms\n",
            "996:\tlearn: 0.0011898\ttotal: 12.7s\tremaining: 38.1ms\n",
            "997:\tlearn: 0.0011887\ttotal: 12.7s\tremaining: 25.4ms\n",
            "998:\tlearn: 0.0011871\ttotal: 12.7s\tremaining: 12.7ms\n",
            "999:\tlearn: 0.0011818\ttotal: 12.7s\tremaining: 0us\n"
          ]
        },
        {
          "output_type": "execute_result",
          "data": {
            "text/plain": [
              "<catboost.core.CatBoostClassifier at 0x7ff9444adc30>"
            ]
          },
          "metadata": {},
          "execution_count": 39
        }
      ]
    },
    {
      "cell_type": "code",
      "source": [
        "model_preds = model_results.predict(X_test)"
      ],
      "metadata": {
        "id": "rG8JoTqy_6dq"
      },
      "execution_count": null,
      "outputs": []
    },
    {
      "cell_type": "code",
      "source": [
        "print(classification_report(y_train, model_results.predict(X_train), digits = 3))"
      ],
      "metadata": {
        "colab": {
          "base_uri": "https://localhost:8080/"
        },
        "id": "rClUH--EATfT",
        "outputId": "6c82ba00-2391-4ca4-ef85-610e52850a84"
      },
      "execution_count": null,
      "outputs": [
        {
          "output_type": "stream",
          "name": "stdout",
          "text": [
            "              precision    recall  f1-score   support\n",
            "\n",
            "         acc      0.987     0.987     0.987       305\n",
            "        good      0.902     1.000     0.948        55\n",
            "       unacc      1.000     0.994     0.997       959\n",
            "       vgood      1.000     1.000     1.000        52\n",
            "\n",
            "    accuracy                          0.993      1371\n",
            "   macro avg      0.972     0.995     0.983      1371\n",
            "weighted avg      0.993     0.993     0.993      1371\n",
            "\n"
          ]
        }
      ]
    },
    {
      "cell_type": "code",
      "source": [
        "print(classification_report(y_test, model_preds, digits = 3))"
      ],
      "metadata": {
        "colab": {
          "base_uri": "https://localhost:8080/"
        },
        "id": "hESQuK5gAsUp",
        "outputId": "45127d12-8dd9-4771-9d02-b3cb1991c997"
      },
      "execution_count": null,
      "outputs": [
        {
          "output_type": "stream",
          "name": "stdout",
          "text": [
            "              precision    recall  f1-score   support\n",
            "\n",
            "         acc      0.935     0.947     0.941        76\n",
            "        good      0.737     1.000     0.848        14\n",
            "       unacc      1.000     0.975     0.987       240\n",
            "       vgood      1.000     1.000     1.000        13\n",
            "\n",
            "    accuracy                          0.971       343\n",
            "   macro avg      0.918     0.981     0.944       343\n",
            "weighted avg      0.975     0.971     0.972       343\n",
            "\n"
          ]
        }
      ]
    },
    {
      "cell_type": "code",
      "source": [
        "from sklearn.metrics import accuracy_score, confusion_matrix, classification_report"
      ],
      "metadata": {
        "id": "cHJHKumECVhU"
      },
      "execution_count": null,
      "outputs": []
    },
    {
      "cell_type": "markdown",
      "source": [
        "Aldığım skoru inceledim gayet yüksek olduğunu gördüm"
      ],
      "metadata": {
        "id": "ARVRp9MrVH8_"
      }
    },
    {
      "cell_type": "code",
      "source": [
        "accuracy_score(y_test, model_preds)"
      ],
      "metadata": {
        "colab": {
          "base_uri": "https://localhost:8080/"
        },
        "id": "OwG2qSThCZOE",
        "outputId": "a59429bf-d556-4bd5-c67f-de41ed54b04e"
      },
      "execution_count": null,
      "outputs": [
        {
          "output_type": "execute_result",
          "data": {
            "text/plain": [
              "0.9708454810495627"
            ]
          },
          "metadata": {},
          "execution_count": 44
        }
      ]
    },
    {
      "cell_type": "code",
      "source": [
        "conf_matrix = confusion_matrix(y_test, model_preds)"
      ],
      "metadata": {
        "id": "zdRqexqsDDLS"
      },
      "execution_count": null,
      "outputs": []
    },
    {
      "cell_type": "code",
      "source": [
        "print(conf_matrix)"
      ],
      "metadata": {
        "colab": {
          "base_uri": "https://localhost:8080/"
        },
        "id": "80CkmfdtDR-d",
        "outputId": "6c291869-0a1f-469d-e084-b524823d3d0b"
      },
      "execution_count": null,
      "outputs": [
        {
          "output_type": "stream",
          "name": "stdout",
          "text": [
            "[[ 72   4   0   0]\n",
            " [  0  14   0   0]\n",
            " [  5   1 234   0]\n",
            " [  0   0   0  13]]\n"
          ]
        }
      ]
    },
    {
      "cell_type": "markdown",
      "source": [],
      "metadata": {
        "id": "HElRyKNVVQ3M"
      }
    },
    {
      "cell_type": "markdown",
      "source": [
        "Proje bitti\n"
      ],
      "metadata": {
        "id": "4aVSULI9VQ6y"
      }
    }
  ]
}